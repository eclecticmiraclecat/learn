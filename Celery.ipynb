{
 "cells": [
  {
   "cell_type": "code",
   "execution_count": 10,
   "metadata": {},
   "outputs": [
    {
     "name": "stdout",
     "output_type": "stream",
     "text": [
      "from celery import Celery\r\n",
      "\r\n",
      "app = Celery()\r\n",
      "\r\n",
      "@app.task\r\n",
      "def add(x, y):\r\n",
      "    return x + y\r\n"
     ]
    }
   ],
   "source": [
    "!cat tasks.py"
   ]
  },
  {
   "cell_type": "code",
   "execution_count": 11,
   "metadata": {},
   "outputs": [],
   "source": [
    "!sudo systemctl start rabbitmq-server"
   ]
  },
  {
   "cell_type": "code",
   "execution_count": null,
   "metadata": {},
   "outputs": [
    {
     "name": "stdout",
     "output_type": "stream",
     "text": [
      "\u001b[1;36m \n",
      " -------------- celery@latitude-7490 v4.3.0 (rhubarb)\n",
      "---- **** ----- \n",
      "--- * ***  * -- Linux-5.0.0-25-generic-x86_64-with-Ubuntu-18.04-bionic 2019-09-26 10:39:45\n",
      "-- * - **** --- \n",
      "- ** ---------- [config]\n",
      "- ** ---------- .> app:         __main__:0x7f8953c6c290\n",
      "- ** ---------- .> transport:   amqp://guest:**@localhost:5672//\n",
      "- ** ---------- .> results:     disabled://\n",
      "- *** --- * --- .> concurrency: 8 (prefork)\n",
      "-- ******* ---- .> task events: OFF (enable -E to monitor tasks in this worker)\n",
      "--- ***** ----- \n",
      " -------------- [queues]\n",
      "                .> celery           exchange=celery(direct) key=celery\n",
      "                \n",
      "\u001b[0m\u001b[0m\n",
      "[tasks]\n",
      "  . tasks.add\n",
      "\u001b[0m\n",
      "[2019-09-26 10:39:45,725: INFO/MainProcess] Connected to amqp://guest:**@127.0.0.1:5672//\n",
      "[2019-09-26 10:39:45,735: INFO/MainProcess] mingle: searching for neighbors\n",
      "[2019-09-26 10:39:46,754: INFO/MainProcess] mingle: all alone\n",
      "[2019-09-26 10:39:46,791: INFO/MainProcess] celery@latitude-7490 ready.\n"
     ]
    }
   ],
   "source": [
    "!celery -A tasks worker -l INFO"
   ]
  },
  {
   "cell_type": "code",
   "execution_count": 1,
   "metadata": {},
   "outputs": [],
   "source": [
    "from tasks import add"
   ]
  },
  {
   "cell_type": "code",
   "execution_count": 2,
   "metadata": {},
   "outputs": [
    {
     "data": {
      "text/plain": [
       "<AsyncResult: c0bdab60-42a6-4ce7-87e0-94eafd033df3>"
      ]
     },
     "execution_count": 2,
     "metadata": {},
     "output_type": "execute_result"
    }
   ],
   "source": [
    "add.delay(4, 2)"
   ]
  },
  {
   "cell_type": "markdown",
   "metadata": {},
   "source": [
    "## multiple queues"
   ]
  },
  {
   "cell_type": "code",
   "execution_count": 11,
   "metadata": {},
   "outputs": [
    {
     "name": "stdout",
     "output_type": "stream",
     "text": [
      "from celery import Celery\r\n",
      "\r\n",
      "app = Celery()\r\n",
      "app.conf.update({\r\n",
      "    'task_routes': {\r\n",
      "        'addy': {'queue': 'add'},\r\n",
      "        'muly': {'queue': 'mul'}\r\n",
      "    },\r\n",
      "})\r\n",
      "\r\n",
      "@app.task(name='addy')\r\n",
      "def add(x, y):\r\n",
      "    return x + y\r\n",
      "\r\n",
      "@app.task(name='muly')\r\n",
      "def mul(x, y):\r\n",
      "    return x * y\r\n"
     ]
    }
   ],
   "source": [
    "!cat tasks.py"
   ]
  },
  {
   "cell_type": "markdown",
   "metadata": {},
   "source": [
    "### terminal\n",
    "\n",
    "    $ celery -A tasks worker -Q add -l INFO --hostname=add@%h\n",
    "    \n",
    "    $ celery -A tasks worker -Q mul -l INFO --hostname=mul@%h"
   ]
  },
  {
   "cell_type": "code",
   "execution_count": null,
   "metadata": {},
   "outputs": [],
   "source": []
  }
 ],
 "metadata": {
  "kernelspec": {
   "display_name": "Python 3",
   "language": "python",
   "name": "python3"
  },
  "language_info": {
   "codemirror_mode": {
    "name": "ipython",
    "version": 3
   },
   "file_extension": ".py",
   "mimetype": "text/x-python",
   "name": "python",
   "nbconvert_exporter": "python",
   "pygments_lexer": "ipython3",
   "version": "3.7.4"
  }
 },
 "nbformat": 4,
 "nbformat_minor": 2
}
