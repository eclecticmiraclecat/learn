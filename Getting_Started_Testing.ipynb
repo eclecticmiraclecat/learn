{
 "cells": [
  {
   "cell_type": "markdown",
   "metadata": {},
   "source": [
    "https://www.youtube.com/watch?v=FxSsnHeWQBY"
   ]
  },
  {
   "cell_type": "markdown",
   "metadata": {},
   "source": [
    "## Stock portfolio class"
   ]
  },
  {
   "cell_type": "code",
   "execution_count": 1,
   "metadata": {
    "scrolled": true
   },
   "outputs": [
    {
     "name": "stdout",
     "output_type": "stream",
     "text": [
      "# portfolio1.py\r\n",
      "\r\n",
      "class Portfolio:\r\n",
      "    \"\"\"A simple stock portfolio\"\"\"\r\n",
      "    def __init__(self):\r\n",
      "        # stocks is a list of lists:\r\n",
      "        #   [[name, shares, price], ...]\r\n",
      "        self.stocks = []\r\n",
      "\r\n",
      "    def buy(self, name, shares, price):\r\n",
      "        \"\"\"Buy `name`: `shares` shares at `price`.\"\"\"\r\n",
      "        self.stocks.append([name, shares, price])\r\n",
      "\r\n",
      "    def cost(self):\r\n",
      "        \"\"\"What was the total cost of this portfolio?\"\"\"\r\n",
      "        amt = 0.0\r\n",
      "        for name, shares, price in self.stocks:\r\n",
      "            amt += shares * price\r\n",
      "        return amt\r\n"
     ]
    }
   ],
   "source": [
    "!cat portfolio1.py"
   ]
  },
  {
   "cell_type": "markdown",
   "metadata": {},
   "source": [
    "## A simple unit test"
   ]
  },
  {
   "cell_type": "code",
   "execution_count": 5,
   "metadata": {
    "scrolled": true
   },
   "outputs": [
    {
     "name": "stdout",
     "output_type": "stream",
     "text": [
      "# test_port1.py\r\n",
      "\r\n",
      "from portfolio1 import Portfolio\r\n",
      "\r\n",
      "def test_buy_one_stock():\r\n",
      "    p = Portfolio()\r\n",
      "    p.buy(\"IBM\", 100, 176.48)\r\n",
      "    assert p.cost() == 17648.0\r\n"
     ]
    }
   ],
   "source": [
    "!cat test_port1.py"
   ]
  },
  {
   "cell_type": "code",
   "execution_count": 6,
   "metadata": {},
   "outputs": [
    {
     "name": "stdout",
     "output_type": "stream",
     "text": [
      "\u001b[1m============================= test session starts ==============================\u001b[0m\n",
      "platform linux -- Python 3.7.4, pytest-5.1.3, py-1.8.0, pluggy-0.13.0\n",
      "rootdir: /home/benedict/projects/play/learn\n",
      "plugins: celery-4.3.0, mock-1.11.2\n",
      "collected 1 item                                                               \u001b[0m\n",
      "\n",
      "test_port1.py \u001b[32m.\u001b[0m\u001b[36m                                                          [100%]\u001b[0m\n",
      "\n",
      "\u001b[32m\u001b[1m============================== 1 passed in 0.01s ===============================\u001b[0m\n"
     ]
    }
   ],
   "source": [
    "!pytest test_port1.py"
   ]
  },
  {
   "cell_type": "markdown",
   "metadata": {},
   "source": [
    "## Add more tests"
   ]
  },
  {
   "cell_type": "code",
   "execution_count": 7,
   "metadata": {},
   "outputs": [
    {
     "name": "stdout",
     "output_type": "stream",
     "text": [
      "# test_port2.py\r\n",
      "\r\n",
      "from portfolio1 import Portfolio\r\n",
      "\r\n",
      "def test_empty():\r\n",
      "    p = Portfolio()\r\n",
      "    assert p.cost() == 0.0\r\n",
      "\r\n",
      "def test_buy_one_stock():\r\n",
      "    p = Portfolio()\r\n",
      "    p.buy(\"IBM\", 100, 176.48)\r\n",
      "    assert p.cost() == 17648.0\r\n",
      "\r\n",
      "def test_buy_two_stocks():\r\n",
      "    p = Portfolio()\r\n",
      "    p.buy(\"IBM\", 100, 176.48)\r\n",
      "    p.buy(\"HPQ\", 100, 36.15)\r\n",
      "    assert p.cost() == 21263.0\r\n"
     ]
    }
   ],
   "source": [
    "!cat test_port2.py"
   ]
  },
  {
   "cell_type": "code",
   "execution_count": 8,
   "metadata": {},
   "outputs": [
    {
     "name": "stdout",
     "output_type": "stream",
     "text": [
      "\u001b[1m============================= test session starts ==============================\u001b[0m\r\n",
      "platform linux -- Python 3.7.4, pytest-5.1.3, py-1.8.0, pluggy-0.13.0\r\n",
      "rootdir: /home/benedict/projects/play/learn\r\n",
      "plugins: celery-4.3.0, mock-1.11.2\r\n",
      "\u001b[1mcollecting ... \u001b[0m\u001b[1m\r",
      "collected 3 items                                                              \u001b[0m\r\n",
      "\r\n",
      "test_port2.py \u001b[32m.\u001b[0m\u001b[32m.\u001b[0m\u001b[32m.\u001b[0m\u001b[36m                                                        [100%]\u001b[0m\r\n",
      "\r\n",
      "\u001b[32m\u001b[1m============================== 3 passed in 0.02s ===============================\u001b[0m\r\n"
     ]
    }
   ],
   "source": [
    "!pytest test_port2.py"
   ]
  },
  {
   "cell_type": "markdown",
   "metadata": {},
   "source": [
    "## What failure looks like"
   ]
  },
  {
   "cell_type": "code",
   "execution_count": 9,
   "metadata": {},
   "outputs": [
    {
     "name": "stdout",
     "output_type": "stream",
     "text": [
      "# test_port1.py\r\n",
      "\r\n",
      "from portfolio1 import Portfolio\r\n",
      "\r\n",
      "def test_buy_one_stock():\r\n",
      "    p = Portfolio()\r\n",
      "    p.buy(\"IBM\", 100, 176.48)\r\n",
      "    assert p.cost() == 17642.0\r\n"
     ]
    }
   ],
   "source": [
    "!cat test_port1_broken.py"
   ]
  },
  {
   "cell_type": "code",
   "execution_count": 10,
   "metadata": {},
   "outputs": [
    {
     "name": "stdout",
     "output_type": "stream",
     "text": [
      "\u001b[1m============================= test session starts ==============================\u001b[0m\r\n",
      "platform linux -- Python 3.7.4, pytest-5.1.3, py-1.8.0, pluggy-0.13.0\r\n",
      "rootdir: /home/benedict/projects/play/learn\r\n",
      "plugins: celery-4.3.0, mock-1.11.2\r\n",
      "\u001b[1mcollecting ... \u001b[0m\u001b[1m\r",
      "collected 1 item                                                               \u001b[0m\r\n",
      "\r\n",
      "test_port1_broken.py \u001b[31mF\u001b[0m\u001b[36m                                                   [100%]\u001b[0m\r\n",
      "\r\n",
      "=================================== FAILURES ===================================\r\n",
      "\u001b[31m\u001b[1m______________________________ test_buy_one_stock ______________________________\u001b[0m\r\n",
      "\r\n",
      "\u001b[1m    def test_buy_one_stock():\u001b[0m\r\n",
      "\u001b[1m        p = Portfolio()\u001b[0m\r\n",
      "\u001b[1m        p.buy(\"IBM\", 100, 176.48)\u001b[0m\r\n",
      "\u001b[1m>       assert p.cost() == 17642.0\u001b[0m\r\n",
      "\u001b[1m\u001b[31mE       assert 17648.0 == 17642.0\u001b[0m\r\n",
      "\u001b[1m\u001b[31mE        +  where 17648.0 = <bound method Portfolio.cost of <portfolio1.Portfolio object at 0x7fd993613610>>()\u001b[0m\r\n",
      "\u001b[1m\u001b[31mE        +    where <bound method Portfolio.cost of <portfolio1.Portfolio object at 0x7fd993613610>> = <portfolio1.Portfolio object at 0x7fd993613610>.cost\u001b[0m\r\n",
      "\r\n",
      "\u001b[1m\u001b[31mtest_port1_broken.py\u001b[0m:8: AssertionError\r\n",
      "\u001b[31m\u001b[1m============================== 1 failed in 0.02s ===============================\u001b[0m\r\n"
     ]
    }
   ],
   "source": [
    "!pytest test_port1_broken.py"
   ]
  },
  {
   "cell_type": "markdown",
   "metadata": {},
   "source": [
    "## What error looks like"
   ]
  },
  {
   "cell_type": "code",
   "execution_count": 11,
   "metadata": {},
   "outputs": [
    {
     "name": "stdout",
     "output_type": "stream",
     "text": [
      "# test_port1.py\r\n",
      "\r\n",
      "from portfolio1 import Portfolio\r\n",
      "\r\n",
      "def test_buy_one_stock():\r\n",
      "    p = Portfolio()\r\n",
      "    p.buyxx(\"IBM\", 100, 176.48)\r\n",
      "    assert p.cost() == 17648.0\r\n"
     ]
    }
   ],
   "source": [
    "!cat test_port1_broken.py"
   ]
  },
  {
   "cell_type": "code",
   "execution_count": 12,
   "metadata": {},
   "outputs": [
    {
     "name": "stdout",
     "output_type": "stream",
     "text": [
      "\u001b[1m============================= test session starts ==============================\u001b[0m\n",
      "platform linux -- Python 3.7.4, pytest-5.1.3, py-1.8.0, pluggy-0.13.0\n",
      "rootdir: /home/benedict/projects/play/learn\n",
      "plugins: celery-4.3.0, mock-1.11.2\n",
      "collected 1 item                                                               \u001b[0m\n",
      "\n",
      "test_port1_broken.py \u001b[31mF\u001b[0m\u001b[36m                                                   [100%]\u001b[0m\n",
      "\n",
      "=================================== FAILURES ===================================\n",
      "\u001b[31m\u001b[1m______________________________ test_buy_one_stock ______________________________\u001b[0m\n",
      "\n",
      "\u001b[1m    def test_buy_one_stock():\u001b[0m\n",
      "\u001b[1m        p = Portfolio()\u001b[0m\n",
      "\u001b[1m>       p.buyxx(\"IBM\", 100, 176.48)\u001b[0m\n",
      "\u001b[1m\u001b[31mE       AttributeError: 'Portfolio' object has no attribute 'buyxx'\u001b[0m\n",
      "\n",
      "\u001b[1m\u001b[31mtest_port1_broken.py\u001b[0m:7: AttributeError\n",
      "\u001b[31m\u001b[1m============================== 1 failed in 0.03s ===============================\u001b[0m\n"
     ]
    }
   ],
   "source": [
    "!pytest test_port1_broken.py"
   ]
  },
  {
   "cell_type": "markdown",
   "metadata": {},
   "source": [
    "## assert Raises"
   ]
  },
  {
   "cell_type": "code",
   "execution_count": 13,
   "metadata": {},
   "outputs": [
    {
     "name": "stdout",
     "output_type": "stream",
     "text": [
      "# test_port1.py\r\n",
      "\r\n",
      "from portfolio1 import Portfolio\r\n",
      "\r\n",
      "def test_buy_one_stock():\r\n",
      "    p = Portfolio()\r\n",
      "    p.buy(\"IBM\")\r\n"
     ]
    }
   ],
   "source": [
    "!cat test_port1_raises.py"
   ]
  },
  {
   "cell_type": "code",
   "execution_count": 14,
   "metadata": {},
   "outputs": [
    {
     "name": "stdout",
     "output_type": "stream",
     "text": [
      "\u001b[1m============================= test session starts ==============================\u001b[0m\r\n",
      "platform linux -- Python 3.7.4, pytest-5.1.3, py-1.8.0, pluggy-0.13.0\r\n",
      "rootdir: /home/benedict/projects/play/learn\r\n",
      "plugins: celery-4.3.0, mock-1.11.2\r\n",
      "\u001b[1mcollecting ... \u001b[0m\u001b[1m\r",
      "collected 1 item                                                               \u001b[0m\r\n",
      "\r\n",
      "test_port1_raises.py \u001b[31mF\u001b[0m\u001b[36m                                                   [100%]\u001b[0m\r\n",
      "\r\n",
      "=================================== FAILURES ===================================\r\n",
      "\u001b[31m\u001b[1m______________________________ test_buy_one_stock ______________________________\u001b[0m\r\n",
      "\r\n",
      "\u001b[1m    def test_buy_one_stock():\u001b[0m\r\n",
      "\u001b[1m        p = Portfolio()\u001b[0m\r\n",
      "\u001b[1m>       p.buy(\"IBM\")\u001b[0m\r\n",
      "\u001b[1m\u001b[31mE       TypeError: buy() missing 2 required positional arguments: 'shares' and 'price'\u001b[0m\r\n",
      "\r\n",
      "\u001b[1m\u001b[31mtest_port1_raises.py\u001b[0m:7: TypeError\r\n",
      "\u001b[31m\u001b[1m============================== 1 failed in 0.02s ===============================\u001b[0m\r\n"
     ]
    }
   ],
   "source": [
    "!pytest test_port1_raises.py"
   ]
  },
  {
   "cell_type": "code",
   "execution_count": 15,
   "metadata": {},
   "outputs": [
    {
     "name": "stdout",
     "output_type": "stream",
     "text": [
      "# test_port1.py\r\n",
      "import pytest\r\n",
      "\r\n",
      "from portfolio1 import Portfolio\r\n",
      "\r\n",
      "def test_buy_one_stock():\r\n",
      "    p = Portfolio()\r\n",
      "    with pytest.raises(TypeError):\r\n",
      "        p.buy(\"IBM\")\r\n"
     ]
    }
   ],
   "source": [
    "!cat test_port1_raises.py"
   ]
  },
  {
   "cell_type": "code",
   "execution_count": 16,
   "metadata": {},
   "outputs": [
    {
     "name": "stdout",
     "output_type": "stream",
     "text": [
      "\u001b[1m============================= test session starts ==============================\u001b[0m\n",
      "platform linux -- Python 3.7.4, pytest-5.1.3, py-1.8.0, pluggy-0.13.0\n",
      "rootdir: /home/benedict/projects/play/learn\n",
      "plugins: celery-4.3.0, mock-1.11.2\n",
      "collected 1 item                                                               \u001b[0m\n",
      "\n",
      "test_port1_raises.py \u001b[32m.\u001b[0m\u001b[36m                                                   [100%]\u001b[0m\n",
      "\n",
      "\u001b[32m\u001b[1m============================== 1 passed in 0.01s ===============================\u001b[0m\n"
     ]
    }
   ],
   "source": [
    "!pytest test_port1_raises.py"
   ]
  },
  {
   "cell_type": "markdown",
   "metadata": {},
   "source": [
    "## Portfolio: .sell()"
   ]
  },
  {
   "cell_type": "code",
   "execution_count": 17,
   "metadata": {},
   "outputs": [
    {
     "name": "stdout",
     "output_type": "stream",
     "text": [
      "# portfolio1.py\r\n",
      "\r\n",
      "class Portfolio:\r\n",
      "    \"\"\"A simple stock portfolio\"\"\"\r\n",
      "    def __init__(self):\r\n",
      "        # stocks is a list of lists:\r\n",
      "        #   [[name, shares, price], ...]\r\n",
      "        self.stocks = []\r\n",
      "\r\n",
      "    def buy(self, name, shares, price):\r\n",
      "        \"\"\"Buy `name`: `shares` shares at `price`.\"\"\"\r\n",
      "        self.stocks.append([name, shares, price])\r\n",
      "\r\n",
      "    def cost(self):\r\n",
      "        \"\"\"What was the total cost of this portfolio?\"\"\"\r\n",
      "        amt = 0.0\r\n",
      "        for name, shares, price in self.stocks:\r\n",
      "            amt += shares * price\r\n",
      "        return amt\r\n",
      "\r\n",
      "    def sell(self, name, shares):\r\n",
      "        \"\"\"Sell some shares.\"\"\"\r\n",
      "        for holding in self.stocks:\r\n",
      "            if holding[0] == name:\r\n",
      "                if holding[1] < shares:\r\n",
      "                    raise ValueError(\"Not enough shares\")\r\n",
      "                holding[1] -= shares\r\n",
      "                break\r\n",
      "        else:\r\n",
      "            raise ValueError(\"You don't own that stock\")\r\n"
     ]
    }
   ],
   "source": [
    "!cat portfolio1.py"
   ]
  },
  {
   "cell_type": "markdown",
   "metadata": {},
   "source": [
    "## Testing sell"
   ]
  },
  {
   "cell_type": "code",
   "execution_count": 23,
   "metadata": {},
   "outputs": [
    {
     "name": "stdout",
     "output_type": "stream",
     "text": [
      "# test_sell.py\r\n",
      "import pytest\r\n",
      "\r\n",
      "from portfolio1 import Portfolio\r\n",
      "\r\n",
      "def test_sell():\r\n",
      "    p = Portfolio()\r\n",
      "    p.buy(\"MSFT\", 100, 27.0)\r\n",
      "    p.buy(\"DELL\", 100, 17.0)\r\n",
      "    p.buy(\"ORCL\", 100, 34.0)\r\n",
      "    p.sell(\"MSFT\", 50)\r\n",
      "    assert p.cost() == 6450\r\n",
      "\r\n",
      "def test_not_enough():\r\n",
      "    p = Portfolio()             # Didn't I just do this?\r\n",
      "    p.buy(\"MSFT\", 100, 27.0)\r\n",
      "    p.buy(\"DELL\", 100, 17.0)\r\n",
      "    p.buy(\"ORCL\", 100, 34.0)\r\n",
      "    with pytest.raises(ValueError):\r\n",
      "        p.sell(\"MSFT\", 200)\r\n",
      "\r\n",
      "def test_dont_own_it():\r\n",
      "    p = Portfolio()             # What, again!?!?\r\n",
      "    p.buy(\"MSFT\", 100, 27.0)\r\n",
      "    p.buy(\"DELL\", 100, 17.0)\r\n",
      "    p.buy(\"ORCL\", 100, 34.0)\r\n",
      "    with pytest.raises(ValueError):\r\n",
      "        p.sell(\"IBM\", 1)\r\n"
     ]
    }
   ],
   "source": [
    "!cat test_sell.py"
   ]
  },
  {
   "cell_type": "code",
   "execution_count": 22,
   "metadata": {
    "scrolled": true
   },
   "outputs": [
    {
     "name": "stdout",
     "output_type": "stream",
     "text": [
      "\u001b[1m============================= test session starts ==============================\u001b[0m\r\n",
      "platform linux -- Python 3.7.4, pytest-5.1.3, py-1.8.0, pluggy-0.13.0\r\n",
      "rootdir: /home/benedict/projects/play/learn\r\n",
      "plugins: celery-4.3.0, mock-1.11.2\r\n",
      "\u001b[1mcollecting ... \u001b[0m\u001b[1m\r",
      "collected 3 items                                                              \u001b[0m\r\n",
      "\r\n",
      "test_sell.py \u001b[32m.\u001b[0m\u001b[32m.\u001b[0m\u001b[32m.\u001b[0m\u001b[36m                                                         [100%]\u001b[0m\r\n",
      "\r\n",
      "\u001b[32m\u001b[1m============================== 3 passed in 0.01s ===============================\u001b[0m\r\n"
     ]
    }
   ],
   "source": [
    "!pytest test_sell.py"
   ]
  },
  {
   "cell_type": "markdown",
   "metadata": {},
   "source": [
    "## Setting up a test"
   ]
  },
  {
   "cell_type": "code",
   "execution_count": 32,
   "metadata": {},
   "outputs": [
    {
     "name": "stdout",
     "output_type": "stream",
     "text": [
      "# test_sell.py\r\n",
      "import pytest\r\n",
      "\r\n",
      "from portfolio1 import Portfolio\r\n",
      "\r\n",
      "@pytest.fixture\r\n",
      "def p():\r\n",
      "    p = Portfolio()\r\n",
      "    p.buy(\"MSFT\", 100, 27.0)\r\n",
      "    p.buy(\"DELL\", 100, 17.0)\r\n",
      "    p.buy(\"ORCL\", 100, 34.0)\r\n",
      "    yield p\r\n",
      "\r\n",
      "def test_sell(p):\r\n",
      "    p.sell(\"MSFT\", 50)\r\n",
      "    assert p.cost() == 6450\r\n",
      "\r\n",
      "def test_not_enough(p):\r\n",
      "    with pytest.raises(ValueError):\r\n",
      "        p.sell(\"MSFT\", 200)\r\n",
      "\r\n",
      "def test_dont_own_it(p):\r\n",
      "    with pytest.raises(ValueError):\r\n",
      "        p.sell(\"IBM\", 1)\r\n"
     ]
    }
   ],
   "source": [
    "!cat test_sell.py"
   ]
  },
  {
   "cell_type": "code",
   "execution_count": 33,
   "metadata": {},
   "outputs": [
    {
     "name": "stdout",
     "output_type": "stream",
     "text": [
      "\u001b[1m============================= test session starts ==============================\u001b[0m\n",
      "platform linux -- Python 3.7.4, pytest-5.1.3, py-1.8.0, pluggy-0.13.0\n",
      "rootdir: /home/benedict/projects/play/learn\n",
      "plugins: celery-4.3.0, mock-1.11.2\n",
      "collected 3 items                                                              \u001b[0m\n",
      "\n",
      "test_sell.py \u001b[32m.\u001b[0m\u001b[32m.\u001b[0m\u001b[32m.\u001b[0m\u001b[36m                                                         [100%]\u001b[0m\n",
      "\n",
      "\u001b[32m\u001b[1m============================== 3 passed in 0.01s ===============================\u001b[0m\n"
     ]
    }
   ],
   "source": [
    "!pytest test_sell.py"
   ]
  },
  {
   "cell_type": "markdown",
   "metadata": {},
   "source": [
    "## Portfolio: Real-time data!"
   ]
  },
  {
   "cell_type": "code",
   "execution_count": 45,
   "metadata": {},
   "outputs": [
    {
     "name": "stdout",
     "output_type": "stream",
     "text": [
      "# portfolio1.py\r\n",
      "import urllib.request\r\n",
      "import csv\r\n",
      "\r\n",
      "class Portfolio:\r\n",
      "    \"\"\"A simple stock portfolio\"\"\"\r\n",
      "    def __init__(self):\r\n",
      "        # stocks is a list of lists:\r\n",
      "        #   [[name, shares, price], ...]\r\n",
      "        self.stocks = []\r\n",
      "\r\n",
      "    def buy(self, name, shares, price):\r\n",
      "        \"\"\"Buy `name`: `shares` shares at `price`.\"\"\"\r\n",
      "        self.stocks.append([name, shares, price])\r\n",
      "\r\n",
      "    def cost(self):\r\n",
      "        \"\"\"What was the total cost of this portfolio?\"\"\"\r\n",
      "        amt = 0.0\r\n",
      "        for name, shares, price in self.stocks:\r\n",
      "            amt += shares * price\r\n",
      "        return amt\r\n",
      "\r\n",
      "    def sell(self, name, shares):\r\n",
      "        \"\"\"Sell some shares.\"\"\"\r\n",
      "        for holding in self.stocks:\r\n",
      "            if holding[0] == name:\r\n",
      "                if holding[1] < shares:\r\n",
      "                    raise ValueError(\"Not enough shares\")\r\n",
      "                holding[1] -= shares\r\n",
      "                break\r\n",
      "        else:\r\n",
      "            raise ValueError(\"You don't own that stock\")\r\n",
      "\r\n",
      "    def current_prices(self):\r\n",
      "        \"\"\"Return a dict mapping names to current prices.\"\"\"\r\n",
      "        url = \"http://finance.yahoo.com/d/quotes.csv?f=sl1&s=\"\r\n",
      "        url += \",\".join(sorted(s[0] for s in self.stocks))\r\n",
      "        data = urllib.request.urlopen(url)\r\n",
      "        return { sym: float(last) for sym, last in csv.reader(data) }\r\n",
      "\r\n",
      "    def value(self):\r\n",
      "        \"\"\"Return the current value of the portfolio.\"\"\"\r\n",
      "        prices = self.current_prices()\r\n",
      "        total = 0.0\r\n",
      "        for name, shares, _ in self.stocks:\r\n",
      "            total += shares * prices[name]\r\n",
      "        return total\r\n"
     ]
    }
   ],
   "source": [
    "!cat portfolio1.py"
   ]
  },
  {
   "cell_type": "markdown",
   "metadata": {},
   "source": [
    "## Fake implementation of current_prices\n",
    "- dont depend on yahoo.com"
   ]
  },
  {
   "cell_type": "code",
   "execution_count": 46,
   "metadata": {},
   "outputs": [
    {
     "name": "stdout",
     "output_type": "stream",
     "text": [
      "# test_sell.py\r\n",
      "import pytest\r\n",
      "\r\n",
      "from portfolio1 import Portfolio\r\n",
      "\r\n",
      "def fake_current_prices():\r\n",
      "    return {'IBM': 140.0, 'HPQ': 32.0}\r\n",
      "\r\n",
      "@pytest.fixture\r\n",
      "def p():\r\n",
      "    p = Portfolio()\r\n",
      "    p.buy(\"IBM\", 100, 120.0)\r\n",
      "    p.buy(\"HPQ\", 100, 30.0)\r\n",
      "    p.current_prices = fake_current_prices\r\n",
      "    yield p\r\n",
      "\r\n",
      "def test_value(p):\r\n",
      "    assert p.value() == 17200\r\n"
     ]
    }
   ],
   "source": [
    "!cat test_sell_fake.py"
   ]
  },
  {
   "cell_type": "code",
   "execution_count": 47,
   "metadata": {},
   "outputs": [
    {
     "name": "stdout",
     "output_type": "stream",
     "text": [
      "\u001b[1m============================= test session starts ==============================\u001b[0m\r\n",
      "platform linux -- Python 3.7.4, pytest-5.1.3, py-1.8.0, pluggy-0.13.0\r\n",
      "rootdir: /home/benedict/projects/play/learn\r\n",
      "plugins: celery-4.3.0, mock-1.11.2\r\n",
      "\u001b[1mcollecting ... \u001b[0m\u001b[1m\r",
      "collected 1 item                                                               \u001b[0m\r\n",
      "\r\n",
      "test_sell_fake.py \u001b[32m.\u001b[0m\u001b[36m                                                      [100%]\u001b[0m\r\n",
      "\r\n",
      "\u001b[32m\u001b[1m============================== 1 passed in 0.01s ===============================\u001b[0m\r\n"
     ]
    }
   ],
   "source": [
    "!pytest test_sell_fake.py"
   ]
  },
  {
   "cell_type": "markdown",
   "metadata": {},
   "source": [
    "## But some code isn't tested"
   ]
  },
  {
   "cell_type": "code",
   "execution_count": 37,
   "metadata": {},
   "outputs": [],
   "source": [
    "!coverage run portfolio1.py "
   ]
  },
  {
   "cell_type": "code",
   "execution_count": 38,
   "metadata": {},
   "outputs": [
    {
     "name": "stdout",
     "output_type": "stream",
     "text": [
      "Name            Stmts   Miss  Cover   Missing\r\n",
      "---------------------------------------------\r\n",
      "portfolio1.py      29     22    24%   8, 12, 16-19, 23-30, 34-37, 41-45\r\n"
     ]
    }
   ],
   "source": [
    "!coverage report -m"
   ]
  },
  {
   "cell_type": "markdown",
   "metadata": {},
   "source": [
    "## mock objects"
   ]
  },
  {
   "cell_type": "code",
   "execution_count": 40,
   "metadata": {},
   "outputs": [],
   "source": [
    "from unittest.mock import Mock"
   ]
  },
  {
   "cell_type": "code",
   "execution_count": 41,
   "metadata": {},
   "outputs": [],
   "source": [
    "func = Mock()"
   ]
  },
  {
   "cell_type": "code",
   "execution_count": 42,
   "metadata": {},
   "outputs": [],
   "source": [
    "func.return_value = 'Hello!'"
   ]
  },
  {
   "cell_type": "code",
   "execution_count": 43,
   "metadata": {},
   "outputs": [
    {
     "data": {
      "text/plain": [
       "'Hello!'"
      ]
     },
     "execution_count": 43,
     "metadata": {},
     "output_type": "execute_result"
    }
   ],
   "source": [
    "func(17, 'something')"
   ]
  },
  {
   "cell_type": "code",
   "execution_count": 44,
   "metadata": {},
   "outputs": [
    {
     "data": {
      "text/plain": [
       "call(17, 'something')"
      ]
     },
     "execution_count": 44,
     "metadata": {},
     "output_type": "execute_result"
    }
   ],
   "source": [
    "func.call_args"
   ]
  },
  {
   "cell_type": "markdown",
   "metadata": {},
   "source": [
    "## Mocking with no setup"
   ]
  },
  {
   "cell_type": "code",
   "execution_count": 48,
   "metadata": {},
   "outputs": [
    {
     "name": "stdout",
     "output_type": "stream",
     "text": [
      "# test_sell.py\r\n",
      "import pytest\r\n",
      "from io import StringIO\r\n",
      "\r\n",
      "from portfolio1 import Portfolio\r\n",
      "\r\n",
      "@pytest.fixture\r\n",
      "def p():\r\n",
      "    p = Portfolio()\r\n",
      "    p.buy(\"IBM\", 100, 120.0)\r\n",
      "    p.buy(\"HPQ\", 100, 30.0)\r\n",
      "    yield p\r\n",
      "\r\n",
      "def test_value(p, mocker):\r\n",
      "\r\n",
      "    # When called, it will return this value:\r\n",
      "    fake_yahoo = StringIO('\"IBM\",140\\n\"HPQ\",32\\n')\r\n",
      "    mocker.patch('urllib.request.urlopen', return_value=fake_yahoo) \r\n",
      "\r\n",
      "    # Run the test!\r\n",
      "    assert p.value() == 17200\r\n",
      "\r\n"
     ]
    }
   ],
   "source": [
    "!cat test_sell_mock.py"
   ]
  },
  {
   "cell_type": "code",
   "execution_count": 49,
   "metadata": {},
   "outputs": [
    {
     "name": "stdout",
     "output_type": "stream",
     "text": [
      "\u001b[1m============================= test session starts ==============================\u001b[0m\r\n",
      "platform linux -- Python 3.7.4, pytest-5.1.3, py-1.8.0, pluggy-0.13.0\r\n",
      "rootdir: /home/benedict/projects/play/learn\r\n",
      "plugins: celery-4.3.0, mock-1.11.2\r\n",
      "\u001b[1mcollecting ... \u001b[0m\u001b[1m\r",
      "collected 1 item                                                               \u001b[0m\r\n",
      "\r\n",
      "test_sell_mock.py \u001b[32m.\u001b[0m\u001b[36m                                                      [100%]\u001b[0m\r\n",
      "\r\n",
      "\u001b[32m\u001b[1m============================== 1 passed in 0.01s ===============================\u001b[0m\r\n"
     ]
    }
   ],
   "source": [
    "!pytest test_sell_mock.py "
   ]
  },
  {
   "cell_type": "code",
   "execution_count": null,
   "metadata": {},
   "outputs": [],
   "source": []
  }
 ],
 "metadata": {
  "kernelspec": {
   "display_name": "Python 3",
   "language": "python",
   "name": "python3"
  },
  "language_info": {
   "codemirror_mode": {
    "name": "ipython",
    "version": 3
   },
   "file_extension": ".py",
   "mimetype": "text/x-python",
   "name": "python",
   "nbconvert_exporter": "python",
   "pygments_lexer": "ipython3",
   "version": "3.7.4"
  }
 },
 "nbformat": 4,
 "nbformat_minor": 2
}
