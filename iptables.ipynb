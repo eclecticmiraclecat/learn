{
 "cells": [
  {
   "cell_type": "code",
   "execution_count": 1,
   "metadata": {},
   "outputs": [],
   "source": [
    "## check status"
   ]
  },
  {
   "cell_type": "markdown",
   "metadata": {},
   "source": [
    "    [root@localhost ~]# systemctl status firewalld"
   ]
  },
  {
   "cell_type": "code",
   "execution_count": 2,
   "metadata": {},
   "outputs": [],
   "source": [
    "## disable service"
   ]
  },
  {
   "cell_type": "markdown",
   "metadata": {},
   "source": [
    "    [root@localhost ~]# systemctl disable --now firewalld\n",
    "    [root@localhost ~]# systemctl mask firewalld"
   ]
  },
  {
   "cell_type": "code",
   "execution_count": 3,
   "metadata": {},
   "outputs": [],
   "source": [
    "## check current policy"
   ]
  },
  {
   "cell_type": "markdown",
   "metadata": {},
   "source": [
    "    [root@localhost ~]# iptables -L"
   ]
  },
  {
   "cell_type": "code",
   "execution_count": 4,
   "metadata": {},
   "outputs": [],
   "source": [
    "## welcomes everybody"
   ]
  },
  {
   "cell_type": "markdown",
   "metadata": {},
   "source": [
    "    Chain INPUT (policy ACCEPT)\n",
    "    target     prot opt source               destination         \n",
    "\n",
    "    Chain FORWARD (policy ACCEPT)\n",
    "    target     prot opt source               destination         \n",
    "\n",
    "    Chain OUTPUT (policy ACCEPT)\n",
    "    target     prot opt source               destination "
   ]
  },
  {
   "cell_type": "code",
   "execution_count": 5,
   "metadata": {},
   "outputs": [],
   "source": [
    "## set policy to DROP everything"
   ]
  },
  {
   "cell_type": "markdown",
   "metadata": {},
   "source": [
    "    [root@localhost ~]# iptables -P INPUT DROP\n",
    "    [root@localhost ~]# iptables -P FORWARD DROP\n",
    "    [root@localhost ~]# iptables -P OUTPUT DROP"
   ]
  },
  {
   "cell_type": "code",
   "execution_count": 6,
   "metadata": {},
   "outputs": [],
   "source": [
    "## going out and coming in will fail"
   ]
  },
  {
   "cell_type": "markdown",
   "metadata": {},
   "source": [
    "    [root@localhost ~]# ping nu.nl\n",
    "    [root@localhost ~]# ping localhost"
   ]
  },
  {
   "cell_type": "code",
   "execution_count": 7,
   "metadata": {},
   "outputs": [],
   "source": [
    "## accept localhost"
   ]
  },
  {
   "cell_type": "markdown",
   "metadata": {},
   "source": [
    "    [root@localhost ~]# iptables -A INPUT -i lo -j ACCEPT\n",
    "    [root@localhost ~]# iptables -A OUTPUT -o lo -j ACCEPT"
   ]
  },
  {
   "cell_type": "code",
   "execution_count": 8,
   "metadata": {},
   "outputs": [],
   "source": [
    "## allow incoming http and ssh"
   ]
  },
  {
   "cell_type": "markdown",
   "metadata": {},
   "source": [
    "    [root@localhost ~]# iptables -A INPUT -p tcp --dport 80 -j ACCEPT\n",
    "    [root@localhost ~]# iptables -A INPUT -p tcp --dport 443 -j ACCEPT\n",
    "    [root@localhost ~]# iptables -A INPUT -p tcp --dport 22 -j ACCEPT"
   ]
  },
  {
   "cell_type": "code",
   "execution_count": null,
   "metadata": {},
   "outputs": [],
   "source": [
    "## allow outgoing answers from http and ssh\n",
    "## tell iptables to let established connection to go out"
   ]
  },
  {
   "cell_type": "markdown",
   "metadata": {},
   "source": [
    "    [root@localhost ~]# iptables -A OUTPUT -m state --state ESTABLISHED,RELATED -j ACCEPT"
   ]
  },
  {
   "cell_type": "code",
   "execution_count": 10,
   "metadata": {},
   "outputs": [],
   "source": [
    "## allow outgoing ssh"
   ]
  },
  {
   "cell_type": "markdown",
   "metadata": {},
   "source": [
    "    [root@localhost ~]# iptables -A OUTPUT -p tcp --dport 22 -j ACCEPT"
   ]
  },
  {
   "cell_type": "code",
   "execution_count": 11,
   "metadata": {},
   "outputs": [],
   "source": [
    "## view iptables"
   ]
  },
  {
   "cell_type": "markdown",
   "metadata": {},
   "source": [
    "    [root@localhost ~]# iptables -L\n",
    "    [root@localhost ~]# iptables -L -v"
   ]
  },
  {
   "cell_type": "code",
   "execution_count": 12,
   "metadata": {},
   "outputs": [],
   "source": [
    "## allow outgoing http"
   ]
  },
  {
   "cell_type": "markdown",
   "metadata": {},
   "source": [
    "    [root@localhost ~]# iptables -A OUTPUT -p tcp --dport 80 -j ACCEPT\n",
    "    [root@localhost ~]# iptables -A OUTPUT -p tcp --dport 443 -j ACCEPT"
   ]
  },
  {
   "cell_type": "code",
   "execution_count": 13,
   "metadata": {},
   "outputs": [],
   "source": [
    "## allow dns queries"
   ]
  },
  {
   "cell_type": "markdown",
   "metadata": {},
   "source": [
    "    [root@localhost ~]# iptables -I OUTPUT 2 -p tcp --dport 53 -j ACCEPT\n",
    "    [root@localhost ~]# iptables -I OUTPUT 2 -p udp --dport 53 -j ACCEPT"
   ]
  },
  {
   "cell_type": "code",
   "execution_count": 14,
   "metadata": {},
   "outputs": [],
   "source": [
    "## save iptables"
   ]
  },
  {
   "cell_type": "markdown",
   "metadata": {},
   "source": [
    "    [root@localhost ~]# iptables-save"
   ]
  },
  {
   "cell_type": "code",
   "execution_count": 15,
   "metadata": {},
   "outputs": [],
   "source": [
    "## save iptables to be loaded at the next reboot"
   ]
  },
  {
   "cell_type": "markdown",
   "metadata": {},
   "source": [
    "    [root@localhost ~]# iptables-save > /etc/sysconfig/iptables"
   ]
  },
  {
   "cell_type": "code",
   "execution_count": 16,
   "metadata": {},
   "outputs": [],
   "source": [
    "## enable iptables service"
   ]
  },
  {
   "cell_type": "markdown",
   "metadata": {},
   "source": [
    "    [root@localhost ~]# systemctl status iptables\n",
    "    [root@localhost ~]# systemctl enable --now iptables\n",
    "    [root@localhost ~]# systemctl status iptables"
   ]
  },
  {
   "cell_type": "code",
   "execution_count": null,
   "metadata": {},
   "outputs": [],
   "source": []
  }
 ],
 "metadata": {
  "kernelspec": {
   "display_name": "Python 3",
   "language": "python",
   "name": "python3"
  },
  "language_info": {
   "codemirror_mode": {
    "name": "ipython",
    "version": 3
   },
   "file_extension": ".py",
   "mimetype": "text/x-python",
   "name": "python",
   "nbconvert_exporter": "python",
   "pygments_lexer": "ipython3",
   "version": "3.7.4"
  }
 },
 "nbformat": 4,
 "nbformat_minor": 2
}
