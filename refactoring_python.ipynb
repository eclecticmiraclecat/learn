{
 "cells": [
  {
   "cell_type": "markdown",
   "metadata": {},
   "source": [
    "# Strategies:\n",
    "1. extract variable and function\n",
    "2. extract class and move fields\n",
    "3. move field gotchas"
   ]
  },
  {
   "cell_type": "markdown",
   "metadata": {},
   "source": [
    "## Extract Variable & Extract Function"
   ]
  },
  {
   "cell_type": "code",
   "execution_count": 1,
   "metadata": {},
   "outputs": [],
   "source": [
    "MONTHS = ('January', 'March', 'April', 'June', 'December')\n",
    "\n",
    "def what_to_eat(month):\n",
    "    if (month.lower().endswith('r') or\n",
    "        month.lower().endswith('ary')):\n",
    "        print(f'{month}: oysters')\n",
    "    elif 3 > MONTHS.index(month) > 1:\n",
    "        print(f'{month}: tomatoes')\n",
    "    else:\n",
    "        print(f'{month}: asparagus')"
   ]
  },
  {
   "cell_type": "code",
   "execution_count": 3,
   "metadata": {},
   "outputs": [
    {
     "name": "stdout",
     "output_type": "stream",
     "text": [
      "December: oysters\n",
      "April: tomatoes\n",
      "June: asparagus\n"
     ]
    }
   ],
   "source": [
    "what_to_eat('December')\n",
    "what_to_eat('April')\n",
    "what_to_eat('June')"
   ]
  },
  {
   "cell_type": "markdown",
   "metadata": {},
   "source": [
    "### Extract variables"
   ]
  },
  {
   "cell_type": "code",
   "execution_count": 8,
   "metadata": {},
   "outputs": [],
   "source": [
    "MONTHS = ('January', 'March', 'April', 'June', 'December')\n",
    "\n",
    "def what_to_eat(month):\n",
    "    lowered = month.lower()\n",
    "    ends_in_r = lowered.endswith('r')\n",
    "    ends_in_ary = lowered.endswith('ary')\n",
    "    index = MONTHS.index(month)\n",
    "    summer = 3 > index > 1\n",
    "\n",
    "    if ends_in_r or ends_in_ary:\n",
    "        print(f'{month}: oysters')\n",
    "    elif summer:\n",
    "        print(f'{month}: tomatoes')\n",
    "    else:\n",
    "        print(f'{month}: asparagus')"
   ]
  },
  {
   "cell_type": "code",
   "execution_count": 9,
   "metadata": {},
   "outputs": [
    {
     "name": "stdout",
     "output_type": "stream",
     "text": [
      "December: oysters\n",
      "April: tomatoes\n",
      "June: asparagus\n"
     ]
    }
   ],
   "source": [
    "what_to_eat('December')\n",
    "what_to_eat('April')\n",
    "what_to_eat('June')"
   ]
  },
  {
   "cell_type": "markdown",
   "metadata": {},
   "source": [
    "### Extract variables into functions"
   ]
  },
  {
   "cell_type": "code",
   "execution_count": 11,
   "metadata": {},
   "outputs": [],
   "source": [
    "MONTHS = ('January', 'March', 'April', 'June', 'December')\n",
    "\n",
    "def oysters_good(month):\n",
    "    lowered = month.lower()\n",
    "    return (lowered.endswith('r') or lowered.endswith('ary'))\n",
    "\n",
    "def tomatoes_good(month):\n",
    "    index = MONTHS.index(month)\n",
    "    return 3 > index > 1\n",
    "\n",
    "def what_to_eat(month):\n",
    "    if oysters_good(month):\n",
    "        print(f'{month}: oysters')\n",
    "    elif tomatoes_good(month):\n",
    "        print(f'{month}: tomatoes')\n",
    "    else:\n",
    "        print(f'{month}: asparagus')"
   ]
  },
  {
   "cell_type": "code",
   "execution_count": 12,
   "metadata": {},
   "outputs": [
    {
     "name": "stdout",
     "output_type": "stream",
     "text": [
      "December: oysters\n",
      "April: tomatoes\n",
      "June: asparagus\n"
     ]
    }
   ],
   "source": [
    "what_to_eat('December')\n",
    "what_to_eat('April')\n",
    "what_to_eat('June')"
   ]
  },
  {
   "cell_type": "markdown",
   "metadata": {},
   "source": [
    "### Using functions with variables"
   ]
  },
  {
   "cell_type": "code",
   "execution_count": 13,
   "metadata": {},
   "outputs": [],
   "source": [
    "MONTHS = ('January', 'March', 'April', 'June', 'December')\n",
    "\n",
    "def oysters_good(month):\n",
    "    lowered = month.lower()\n",
    "    return (lowered.endswith('r') or lowered.endswith('ary'))\n",
    "\n",
    "def tomatoes_good(month):\n",
    "    index = MONTHS.index(month)\n",
    "    return 3 > index > 1\n",
    "\n",
    "def what_to_eat(month):\n",
    "    time_for_oysters = oysters_good(month)\n",
    "    time_for_tomatoes = tomatoes_good(month)\n",
    "    \n",
    "    if time_for_oysters:\n",
    "        print(f'{month}: oysters')\n",
    "    elif time_for_tomatoes:\n",
    "        print(f'{month}: tomatoes')\n",
    "    else:\n",
    "        print(f'{month}: asparagus')"
   ]
  },
  {
   "cell_type": "code",
   "execution_count": 14,
   "metadata": {},
   "outputs": [
    {
     "name": "stdout",
     "output_type": "stream",
     "text": [
      "December: oysters\n",
      "April: tomatoes\n",
      "June: asparagus\n"
     ]
    }
   ],
   "source": [
    "what_to_eat('December')\n",
    "what_to_eat('April')\n",
    "what_to_eat('June')"
   ]
  },
  {
   "cell_type": "markdown",
   "metadata": {},
   "source": [
    "### Extract variables into classes"
   ]
  },
  {
   "cell_type": "code",
   "execution_count": 26,
   "metadata": {},
   "outputs": [],
   "source": [
    "MONTHS = ('January', 'March', 'April', 'June', 'December')\n",
    "\n",
    "class OystersGood:\n",
    "    def __init__(self, month):\n",
    "        lowered = month.lower()\n",
    "        self.r = lowered.endswith('r')\n",
    "        self.ary = lowered.endswith('ary')\n",
    "        self._result = self.r or self.ary\n",
    "        \n",
    "    def __bool__(self):\n",
    "        return self._result\n",
    "    \n",
    "class TomatoesGood:\n",
    "    def __init__(self, month):\n",
    "        self.index = MONTHS.index(month)\n",
    "        self._result = 3 > self.index > 1\n",
    "        \n",
    "    def __bool__(self):\n",
    "        return self._result\n",
    "    \n",
    "def what_to_eat(month):\n",
    "    time_for_oysters = OystersGood(month)\n",
    "    time_for_tomatoes = TomatoesGood(month)\n",
    "    \n",
    "    if time_for_oysters:\n",
    "        print(f'{month}: oysters')\n",
    "    elif time_for_tomatoes:\n",
    "        print(f'{month}: tomatoes')\n",
    "    else:\n",
    "        print(f'{month}: asparagus')"
   ]
  },
  {
   "cell_type": "code",
   "execution_count": 27,
   "metadata": {},
   "outputs": [
    {
     "name": "stdout",
     "output_type": "stream",
     "text": [
      "December: oysters\n",
      "April: tomatoes\n",
      "June: asparagus\n"
     ]
    }
   ],
   "source": [
    "what_to_eat('December')\n",
    "what_to_eat('April')\n",
    "what_to_eat('June')"
   ]
  },
  {
   "cell_type": "markdown",
   "metadata": {},
   "source": [
    "### Extracting classes facilitates testing"
   ]
  },
  {
   "cell_type": "code",
   "execution_count": 28,
   "metadata": {},
   "outputs": [],
   "source": [
    "test = OystersGood('November')\n",
    "assert test\n",
    "assert test.r\n",
    "assert not test.ary"
   ]
  },
  {
   "cell_type": "markdown",
   "metadata": {},
   "source": [
    "# Things to remember\n",
    "1. Extract variables and functions to improve readability\n",
    "2. Extract variables into classes to improve testability\n",
    "3. Use `__bool__` to indicate a class is a paper trail"
   ]
  },
  {
   "cell_type": "markdown",
   "metadata": {},
   "source": [
    "## Extract Class & Move Fields"
   ]
  },
  {
   "cell_type": "markdown",
   "metadata": {},
   "source": [
    "### Keeping track of pets"
   ]
  },
  {
   "cell_type": "code",
   "execution_count": 29,
   "metadata": {},
   "outputs": [],
   "source": [
    "class Pet:\n",
    "    def __init__(self, name):\n",
    "        self.name = name"
   ]
  },
  {
   "cell_type": "code",
   "execution_count": 30,
   "metadata": {},
   "outputs": [
    {
     "data": {
      "text/plain": [
       "'Gregory the Gila'"
      ]
     },
     "execution_count": 30,
     "metadata": {},
     "output_type": "execute_result"
    }
   ],
   "source": [
    "pet = Pet('Gregory the Gila')\n",
    "print(f'{pet.name}')"
   ]
  },
  {
   "cell_type": "markdown",
   "metadata": {},
   "source": [
    "### Keeping track of pets age"
   ]
  },
  {
   "cell_type": "code",
   "execution_count": 31,
   "metadata": {},
   "outputs": [],
   "source": [
    "class Pet:\n",
    "    def __init__(self, name, age):\n",
    "        self.name = name\n",
    "        self.age = age"
   ]
  },
  {
   "cell_type": "code",
   "execution_count": 32,
   "metadata": {},
   "outputs": [
    {
     "name": "stdout",
     "output_type": "stream",
     "text": [
      "Gregory the Gila is 3 years old \n"
     ]
    }
   ],
   "source": [
    "pet = Pet('Gregory the Gila', 3)\n",
    "print(f'{pet.name} is {pet.age} years old ')"
   ]
  },
  {
   "cell_type": "markdown",
   "metadata": {},
   "source": [
    "### Keeping track of pets treats"
   ]
  },
  {
   "cell_type": "code",
   "execution_count": 34,
   "metadata": {},
   "outputs": [],
   "source": [
    "class Pet:\n",
    "    def __init__(self, name, age):\n",
    "        self.name = name\n",
    "        self.age = age\n",
    "        self.treats_eaten = 0\n",
    "        \n",
    "    def give_treats(self, count):\n",
    "        self.treats_eaten += count"
   ]
  },
  {
   "cell_type": "code",
   "execution_count": 35,
   "metadata": {},
   "outputs": [
    {
     "name": "stdout",
     "output_type": "stream",
     "text": [
      "Gregory the Gila ate 20 treats \n"
     ]
    }
   ],
   "source": [
    "pet = Pet('Gregory the Gila', 3)\n",
    "pet.give_treats(20)\n",
    "print(f'{pet.name} ate {pet.treats_eaten} treats ')"
   ]
  },
  {
   "cell_type": "markdown",
   "metadata": {},
   "source": [
    "### Keeping track of pets needs"
   ]
  },
  {
   "cell_type": "code",
   "execution_count": 41,
   "metadata": {},
   "outputs": [],
   "source": [
    "class Pet:\n",
    "    def __init__(self, name, age, *,\n",
    "                has_scales=False,\n",
    "                lay_eggs=False,\n",
    "                drinks_milk=False):\n",
    "        self.name = name\n",
    "        self.age = age\n",
    "        self.treats_eaten = 0\n",
    "        self.has_scales = has_scales\n",
    "        self.lay_eggs = lay_eggs\n",
    "        self.drinks_milk = drinks_milk\n",
    "        \n",
    "    def give_treats(self, count):\n",
    "        self.treats_eaten += count\n",
    "        \n",
    "    @property\n",
    "    def needs_heat_lamp(self):\n",
    "        return (self.has_scales and\n",
    "               self.lay_eggs and\n",
    "               not self.drinks_milk)"
   ]
  },
  {
   "cell_type": "code",
   "execution_count": 42,
   "metadata": {},
   "outputs": [
    {
     "name": "stdout",
     "output_type": "stream",
     "text": [
      "Gregory the Gila needs a heat lamp? True \n"
     ]
    }
   ],
   "source": [
    "pet = Pet('Gregory the Gila', 3, has_scales=True, lay_eggs=True)\n",
    "print(f'{pet.name} needs a heat lamp? {pet.needs_heat_lamp} ')"
   ]
  },
  {
   "cell_type": "markdown",
   "metadata": {},
   "source": [
    "## Extract Animal from Pet"
   ]
  },
  {
   "cell_type": "code",
   "execution_count": 43,
   "metadata": {},
   "outputs": [],
   "source": [
    "class Animal:\n",
    "    def __init__(self, *,\n",
    "                has_scales=False,\n",
    "                lay_eggs=False,\n",
    "                drinks_milk=False):\n",
    "        self.has_scales = has_scales\n",
    "        self.lay_eggs = lay_eggs\n",
    "        self.drinks_milk = drinks_milk"
   ]
  },
  {
   "cell_type": "code",
   "execution_count": 51,
   "metadata": {},
   "outputs": [],
   "source": [
    "class Pet:\n",
    "    def __init__(self, name, age,\n",
    "                animal=None, **kwargs):\n",
    "        self.name = name\n",
    "        self.age = age\n",
    "        self.treats_eaten = 0\n",
    "        self.animal = animal\n",
    "\n",
    "    def give_treats(self, count):\n",
    "        self.treats_eaten += count\n",
    "        \n",
    "    @property\n",
    "    def needs_heat_lamp(self):\n",
    "        return (self.animal.has_scales and\n",
    "               self.animal.lay_eggs and\n",
    "               not self.animal.drinks_milk)"
   ]
  },
  {
   "cell_type": "code",
   "execution_count": 52,
   "metadata": {},
   "outputs": [
    {
     "name": "stdout",
     "output_type": "stream",
     "text": [
      "Gregory the Gila\n"
     ]
    }
   ],
   "source": [
    "animal = Animal(has_scales=True, lay_eggs=True)\n",
    "pet = Pet('Gregory the Gila', 3, animal)\n",
    "print(f'{pet.name}')"
   ]
  },
  {
   "cell_type": "code",
   "execution_count": 54,
   "metadata": {},
   "outputs": [
    {
     "name": "stdout",
     "output_type": "stream",
     "text": [
      "Gregory the Gila ate 0 treats \n"
     ]
    }
   ],
   "source": [
    "print(f'{pet.name} ate {pet.treats_eaten} treats ')"
   ]
  },
  {
   "cell_type": "code",
   "execution_count": 53,
   "metadata": {},
   "outputs": [
    {
     "name": "stdout",
     "output_type": "stream",
     "text": [
      "Gregory the Gila needs a heat lamp? True \n"
     ]
    }
   ],
   "source": [
    "print(f'{pet.name} needs a heat lamp? {pet.needs_heat_lamp} ')"
   ]
  },
  {
   "cell_type": "markdown",
   "metadata": {},
   "source": [
    "## Extract Closure"
   ]
  },
  {
   "cell_type": "code",
   "execution_count": 55,
   "metadata": {},
   "outputs": [],
   "source": [
    "class Grade:\n",
    "    def __init__(self, student, score):\n",
    "        self.student = student\n",
    "        self.score = score\n",
    "        \n",
    "grades = [\n",
    "    Grade('Jim', 92),\n",
    "    Grade('Jen', 89),\n",
    "    Grade('Ali', 73),\n",
    "    Grade('Bob', 96)\n",
    "]"
   ]
  },
  {
   "cell_type": "markdown",
   "metadata": {},
   "source": [
    "### Calculating stats for students"
   ]
  },
  {
   "cell_type": "code",
   "execution_count": 56,
   "metadata": {},
   "outputs": [],
   "source": [
    "def print_stats(grades):\n",
    "    total, count, lo, hi = 0, 0, 100, 0\n",
    "    for grade in grades:\n",
    "        total += grade.score\n",
    "        count += 1\n",
    "        if grade.score < lo:\n",
    "            lo = grade.score\n",
    "        elif grade.score > hi:\n",
    "            hi = grade.score\n",
    "    print(f'Avg: {total/count}, Lo: {lo}, Hi: {hi}')"
   ]
  },
  {
   "cell_type": "code",
   "execution_count": 57,
   "metadata": {},
   "outputs": [
    {
     "name": "stdout",
     "output_type": "stream",
     "text": [
      "Avg: 87.5, Lo: 73, Hi: 96\n"
     ]
    }
   ],
   "source": [
    "print_stats(grades)"
   ]
  },
  {
   "cell_type": "markdown",
   "metadata": {},
   "source": [
    "### Extract stateful closure, but its messy"
   ]
  },
  {
   "cell_type": "code",
   "execution_count": 60,
   "metadata": {},
   "outputs": [],
   "source": [
    "def print_stats(grades):\n",
    "    total, count, lo, hi = 0, 0, 100, 0\n",
    "    \n",
    "    def adjust_stats(grade):\n",
    "        nonlocal total, count, hi, lo\n",
    "        total += grade.score\n",
    "        count += 1\n",
    "        if grade.score < lo:\n",
    "            lo = grade.score\n",
    "        elif grade.score > hi:\n",
    "            hi = grade.score\n",
    "        \n",
    "    for grade in grades:\n",
    "        adjust_stats(grade)\n",
    "        \n",
    "    print(f'Avg: {total/count}, Lo: {lo}, Hi: {hi}')"
   ]
  },
  {
   "cell_type": "code",
   "execution_count": 61,
   "metadata": {},
   "outputs": [
    {
     "name": "stdout",
     "output_type": "stream",
     "text": [
      "Avg: 87.5, Lo: 73, Hi: 96\n"
     ]
    }
   ],
   "source": [
    "print_stats(grades)"
   ]
  },
  {
   "cell_type": "markdown",
   "metadata": {},
   "source": [
    "### Instead use Stateful closure class"
   ]
  },
  {
   "cell_type": "code",
   "execution_count": 64,
   "metadata": {},
   "outputs": [],
   "source": [
    "class CalculateStats:\n",
    "    def __init__(self):\n",
    "        self.total = 0\n",
    "        self.count = 0\n",
    "        self.lo = 100\n",
    "        self.hi = 0\n",
    "        \n",
    "    def __call__(self, grade):\n",
    "        self.total += grade.score\n",
    "        self.count += 1\n",
    "        if grade.score < self.lo:\n",
    "            self.lo = grade.score\n",
    "        elif grade.score > self.hi:\n",
    "            self.hi = grade.score\n",
    "        \n",
    "    @property\n",
    "    def avg(self):\n",
    "        return self.total / self.count\n",
    "    \n",
    "def print_stats(grades):\n",
    "    stats = CalculateStats()\n",
    "          \n",
    "    for grade in grades:\n",
    "        stats(grade)\n",
    "        \n",
    "    print(f'Avg: {stats.avg}, Lo: {stats.lo}, Hi: {stats.hi}')"
   ]
  },
  {
   "cell_type": "code",
   "execution_count": 65,
   "metadata": {},
   "outputs": [
    {
     "name": "stdout",
     "output_type": "stream",
     "text": [
      "Avg: 87.5, Lo: 73, Hi: 96\n"
     ]
    }
   ],
   "source": [
    "print_stats(grades)"
   ]
  },
  {
   "cell_type": "code",
   "execution_count": null,
   "metadata": {},
   "outputs": [],
   "source": []
  }
 ],
 "metadata": {
  "kernelspec": {
   "display_name": "Python 3",
   "language": "python",
   "name": "python3"
  },
  "language_info": {
   "codemirror_mode": {
    "name": "ipython",
    "version": 3
   },
   "file_extension": ".py",
   "mimetype": "text/x-python",
   "name": "python",
   "nbconvert_exporter": "python",
   "pygments_lexer": "ipython3",
   "version": "3.7.4"
  }
 },
 "nbformat": 4,
 "nbformat_minor": 2
}
