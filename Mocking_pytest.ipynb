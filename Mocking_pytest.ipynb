{
 "cells": [
  {
   "cell_type": "code",
   "execution_count": null,
   "metadata": {},
   "outputs": [],
   "source": [
    "## tips:\n",
    "1. make sure module is importable\n",
    "2. "
   ]
  },
  {
   "cell_type": "code",
   "execution_count": 2,
   "metadata": {},
   "outputs": [
    {
     "name": "stdout",
     "output_type": "stream",
     "text": [
      "def foo():\r\n",
      "    print('foo')\r\n"
     ]
    }
   ],
   "source": [
    "!cat my_module.py"
   ]
  },
  {
   "cell_type": "markdown",
   "metadata": {},
   "source": [
    "## use pytest mocker"
   ]
  },
  {
   "cell_type": "code",
   "execution_count": 7,
   "metadata": {},
   "outputs": [
    {
     "name": "stdout",
     "output_type": "stream",
     "text": [
      "import my_module\r\n",
      "\r\n",
      "def test_foo(mocker):\r\n",
      "    mocker.patch('my_module.foo', return_value='boo')\r\n",
      "\r\n",
      "    assert my_module.foo() == 'boo'\r\n"
     ]
    }
   ],
   "source": [
    "!cat test_my_module.py"
   ]
  },
  {
   "cell_type": "code",
   "execution_count": 9,
   "metadata": {},
   "outputs": [
    {
     "name": "stdout",
     "output_type": "stream",
     "text": [
      "\u001b[1m============================= test session starts ==============================\u001b[0m\n",
      "platform linux -- Python 3.7.4, pytest-5.1.3, py-1.8.0, pluggy-0.13.0\n",
      "rootdir: /home/benedict/projects/play/learn\n",
      "plugins: celery-4.3.0, mock-1.11.2\n",
      "collected 1 item                                                               \u001b[0m\n",
      "\n",
      "test_my_module.py \u001b[32m.\u001b[0m\u001b[36m                                                      [100%]\u001b[0m\n",
      "\n",
      "\u001b[32m\u001b[1m============================== 1 passed in 0.01s ===============================\u001b[0m\n"
     ]
    }
   ],
   "source": [
    "!pytest test_my_module.py"
   ]
  },
  {
   "cell_type": "markdown",
   "metadata": {},
   "source": [
    "## use pytest monkeypatch"
   ]
  },
  {
   "cell_type": "code",
   "execution_count": 11,
   "metadata": {},
   "outputs": [
    {
     "name": "stdout",
     "output_type": "stream",
     "text": [
      "import my_module\r\n",
      "\r\n",
      "def test_foo(monkeypatch):\r\n",
      "\r\n",
      "    def mock_foo():\r\n",
      "        return 'boo'\r\n",
      "    \r\n",
      "    monkeypatch.setattr(my_module, 'foo', mock_foo)\r\n",
      "\r\n",
      "    assert my_module.foo() == 'boo'\r\n",
      "\r\n"
     ]
    }
   ],
   "source": [
    "!cat test_my_module.py"
   ]
  },
  {
   "cell_type": "code",
   "execution_count": 12,
   "metadata": {},
   "outputs": [
    {
     "name": "stdout",
     "output_type": "stream",
     "text": [
      "\u001b[1m============================= test session starts ==============================\u001b[0m\r\n",
      "platform linux -- Python 3.7.4, pytest-5.1.3, py-1.8.0, pluggy-0.13.0\r\n",
      "rootdir: /home/benedict/projects/play/learn\r\n",
      "plugins: celery-4.3.0, mock-1.11.2\r\n",
      "\u001b[1mcollecting ... \u001b[0m\u001b[1m\r",
      "collected 1 item                                                               \u001b[0m\r\n",
      "\r\n",
      "test_my_module.py \u001b[32m.\u001b[0m\u001b[36m                                                      [100%]\u001b[0m\r\n",
      "\r\n",
      "\u001b[32m\u001b[1m============================== 1 passed in 0.01s ===============================\u001b[0m\r\n"
     ]
    }
   ],
   "source": [
    "!pytest test_my_module.py"
   ]
  },
  {
   "cell_type": "markdown",
   "metadata": {},
   "source": [
    "****"
   ]
  },
  {
   "cell_type": "markdown",
   "metadata": {},
   "source": [
    "## mock constant"
   ]
  },
  {
   "cell_type": "code",
   "execution_count": 3,
   "metadata": {},
   "outputs": [
    {
     "name": "stdout",
     "output_type": "stream",
     "text": [
      "hi='hello there'\r\n"
     ]
    }
   ],
   "source": [
    "!cat my_module.py"
   ]
  },
  {
   "cell_type": "code",
   "execution_count": 8,
   "metadata": {},
   "outputs": [
    {
     "name": "stdout",
     "output_type": "stream",
     "text": [
      "import my_module\r\n",
      "\r\n",
      "def test_foo(mocker):\r\n",
      "    mocker.patch('my_module.hi', 'boo')\r\n",
      "    \r\n",
      "    assert my_module.hi == 'boo'\r\n"
     ]
    }
   ],
   "source": [
    "!cat test_my_module.py"
   ]
  },
  {
   "cell_type": "code",
   "execution_count": 9,
   "metadata": {},
   "outputs": [
    {
     "name": "stdout",
     "output_type": "stream",
     "text": [
      "\u001b[1m============================= test session starts ==============================\u001b[0m\r\n",
      "platform linux -- Python 3.7.5, pytest-5.1.3, py-1.8.0, pluggy-0.13.0\r\n",
      "rootdir: /home/benedict/projects/play/learn\r\n",
      "plugins: celery-4.3.0, mock-1.11.2\r\n",
      "\u001b[1mcollecting ... \u001b[0m\u001b[1m\r",
      "collected 1 item                                                               \u001b[0m\r\n",
      "\r\n",
      "test_my_module.py \u001b[32m.\u001b[0m\u001b[36m                                                      [100%]\u001b[0m\r\n",
      "\r\n",
      "\u001b[32m\u001b[1m============================== 1 passed in 0.01s ===============================\u001b[0m\r\n"
     ]
    }
   ],
   "source": [
    "!pytest test_my_module.py"
   ]
  },
  {
   "cell_type": "markdown",
   "metadata": {},
   "source": [
    "## mock functions"
   ]
  },
  {
   "cell_type": "code",
   "execution_count": 10,
   "metadata": {},
   "outputs": [
    {
     "name": "stdout",
     "output_type": "stream",
     "text": [
      "def foo():\r\n",
      "    return 'foo'\r\n"
     ]
    }
   ],
   "source": [
    "!cat my_module.py"
   ]
  },
  {
   "cell_type": "code",
   "execution_count": 11,
   "metadata": {},
   "outputs": [
    {
     "name": "stdout",
     "output_type": "stream",
     "text": [
      "import my_module\r\n",
      "\r\n",
      "def test_foo(mocker):\r\n",
      "    mocker.patch('my_module.foo', return_value='boo')\r\n",
      "    \r\n",
      "    assert my_module.foo() == 'boo'\r\n"
     ]
    }
   ],
   "source": [
    "!cat test_my_module.py"
   ]
  },
  {
   "cell_type": "code",
   "execution_count": 12,
   "metadata": {},
   "outputs": [
    {
     "name": "stdout",
     "output_type": "stream",
     "text": [
      "\u001b[1m============================= test session starts ==============================\u001b[0m\r\n",
      "platform linux -- Python 3.7.5, pytest-5.1.3, py-1.8.0, pluggy-0.13.0\r\n",
      "rootdir: /home/benedict/projects/play/learn\r\n",
      "plugins: celery-4.3.0, mock-1.11.2\r\n",
      "\u001b[1mcollecting ... \u001b[0m\u001b[1m\r",
      "collected 1 item                                                               \u001b[0m\r\n",
      "\r\n",
      "test_my_module.py \u001b[32m.\u001b[0m\u001b[36m                                                      [100%]\u001b[0m\r\n",
      "\r\n",
      "\u001b[32m\u001b[1m============================== 1 passed in 0.01s ===============================\u001b[0m\r\n"
     ]
    }
   ],
   "source": [
    "!pytest test_my_module.py"
   ]
  },
  {
   "cell_type": "markdown",
   "metadata": {},
   "source": [
    "## mock methods"
   ]
  },
  {
   "cell_type": "code",
   "execution_count": 17,
   "metadata": {},
   "outputs": [
    {
     "name": "stdout",
     "output_type": "stream",
     "text": [
      "class Foo:\r\n",
      "    def yow(self):\r\n",
      "        return 'yow'\r\n"
     ]
    }
   ],
   "source": [
    "!cat my_module.py"
   ]
  },
  {
   "cell_type": "code",
   "execution_count": 18,
   "metadata": {},
   "outputs": [
    {
     "name": "stdout",
     "output_type": "stream",
     "text": [
      "import my_module\r\n",
      "\r\n",
      "def test_foo(mocker):\r\n",
      "    mocker.patch('my_module.Foo.yow', return_value='boo')\r\n",
      "    \r\n",
      "    assert my_module.Foo.yow() == 'boo'\r\n"
     ]
    }
   ],
   "source": [
    "!cat test_my_module.py"
   ]
  },
  {
   "cell_type": "code",
   "execution_count": 19,
   "metadata": {},
   "outputs": [
    {
     "name": "stdout",
     "output_type": "stream",
     "text": [
      "\u001b[1m============================= test session starts ==============================\u001b[0m\r\n",
      "platform linux -- Python 3.7.5, pytest-5.1.3, py-1.8.0, pluggy-0.13.0\r\n",
      "rootdir: /home/benedict/projects/play/learn\r\n",
      "plugins: celery-4.3.0, mock-1.11.2\r\n",
      "\u001b[1mcollecting ... \u001b[0m\u001b[1m\r",
      "collected 1 item                                                               \u001b[0m\r\n",
      "\r\n",
      "test_my_module.py \u001b[32m.\u001b[0m\u001b[36m                                                      [100%]\u001b[0m\r\n",
      "\r\n",
      "\u001b[32m\u001b[1m============================== 1 passed in 0.01s ===============================\u001b[0m\r\n"
     ]
    }
   ],
   "source": [
    "!pytest test_my_module.py"
   ]
  },
  {
   "cell_type": "markdown",
   "metadata": {},
   "source": [
    "## mock compostion"
   ]
  },
  {
   "cell_type": "code",
   "execution_count": 28,
   "metadata": {},
   "outputs": [
    {
     "name": "stdout",
     "output_type": "stream",
     "text": [
      "class Boo:\r\n",
      "    grok = 'grok'\r\n",
      "\r\n",
      "class Foo:\r\n",
      "    boo = Boo()\r\n",
      "    def yow(self):\r\n",
      "        return 'yow'\r\n",
      "\r\n"
     ]
    }
   ],
   "source": [
    "!cat my_module.py"
   ]
  },
  {
   "cell_type": "code",
   "execution_count": 31,
   "metadata": {},
   "outputs": [
    {
     "name": "stdout",
     "output_type": "stream",
     "text": [
      "import my_module\r\n",
      "\r\n",
      "def test_foo(mocker):\r\n",
      "    mocker.patch('my_module.Foo.boo.grok', 'boo')\r\n",
      "    \r\n",
      "    assert my_module.Foo.boo.grok == 'boo'\r\n"
     ]
    }
   ],
   "source": [
    "!cat test_my_module.py"
   ]
  },
  {
   "cell_type": "code",
   "execution_count": 32,
   "metadata": {},
   "outputs": [
    {
     "name": "stdout",
     "output_type": "stream",
     "text": [
      "\u001b[1m============================= test session starts ==============================\u001b[0m\r\n",
      "platform linux -- Python 3.7.5, pytest-5.1.3, py-1.8.0, pluggy-0.13.0\r\n",
      "rootdir: /home/benedict/projects/play/learn\r\n",
      "plugins: celery-4.3.0, mock-1.11.2\r\n",
      "\u001b[1mcollecting ... \u001b[0m\u001b[1m\r",
      "collected 1 item                                                               \u001b[0m\r\n",
      "\r\n",
      "test_my_module.py \u001b[32m.\u001b[0m\u001b[36m                                                      [100%]\u001b[0m\r\n",
      "\r\n",
      "\u001b[32m\u001b[1m============================== 1 passed in 0.01s ===============================\u001b[0m\r\n"
     ]
    }
   ],
   "source": [
    "!pytest test_my_module.py"
   ]
  },
  {
   "cell_type": "code",
   "execution_count": null,
   "metadata": {},
   "outputs": [],
   "source": []
  }
 ],
 "metadata": {
  "kernelspec": {
   "display_name": "Python 3",
   "language": "python",
   "name": "python3"
  },
  "language_info": {
   "codemirror_mode": {
    "name": "ipython",
    "version": 3
   },
   "file_extension": ".py",
   "mimetype": "text/x-python",
   "name": "python",
   "nbconvert_exporter": "python",
   "pygments_lexer": "ipython3",
   "version": "3.7.5"
  }
 },
 "nbformat": 4,
 "nbformat_minor": 2
}
