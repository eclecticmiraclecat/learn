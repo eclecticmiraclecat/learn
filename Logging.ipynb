{
 "cells": [
  {
   "cell_type": "markdown",
   "metadata": {},
   "source": [
    "# Logging"
   ]
  },
  {
   "cell_type": "markdown",
   "metadata": {},
   "source": [
    "## use print"
   ]
  },
  {
   "cell_type": "code",
   "execution_count": 6,
   "metadata": {},
   "outputs": [
    {
     "name": "stdout",
     "output_type": "stream",
     "text": [
      "def add(x, y):\r\n",
      "    \"\"\"Add Function\"\"\"\r\n",
      "    return x + y\r\n",
      "\r\n",
      "\r\n",
      "def subtract(x, y):\r\n",
      "    \"\"\"Subtract Function\"\"\"\r\n",
      "    return x - y\r\n",
      "\r\n",
      "\r\n",
      "def multiply(x, y):\r\n",
      "    \"\"\"Multiply Function\"\"\"\r\n",
      "    return x * y\r\n",
      "\r\n",
      "\r\n",
      "def divide(x, y):\r\n",
      "    \"\"\"Divide Function\"\"\"\r\n",
      "    return x / y\r\n",
      "\r\n",
      "\r\n",
      "num_1 = 20\r\n",
      "num_2 = 10\r\n",
      "\r\n",
      "add_result = add(num_1, num_2)\r\n",
      "print(f'Add: {num_1} + {num_2} = {add_result}')\r\n",
      "\r\n",
      "sub_result = subtract(num_1, num_2)\r\n",
      "print(f'Sub: {num_1} - {num_2} = {sub_result}')\r\n",
      "\r\n",
      "mul_result = multiply(num_1, num_2)\r\n",
      "print(f'Mul: {num_1} * {num_2} = {mul_result}')\r\n",
      "\r\n",
      "div_result = divide(num_1, num_2)\r\n",
      "print(f'Div: {num_1} / {num_2} = {div_result}')\r\n"
     ]
    }
   ],
   "source": [
    "!cat log-sample.py"
   ]
  },
  {
   "cell_type": "code",
   "execution_count": 7,
   "metadata": {},
   "outputs": [
    {
     "name": "stdout",
     "output_type": "stream",
     "text": [
      "Add: 20 + 10 = 30\r\n",
      "Sub: 20 - 10 = 10\r\n",
      "Mul: 20 * 10 = 200\r\n",
      "Div: 20 / 10 = 2.0\r\n"
     ]
    }
   ],
   "source": [
    "!python log-sample.py"
   ]
  },
  {
   "cell_type": "markdown",
   "metadata": {},
   "source": [
    "## convert print to logging"
   ]
  },
  {
   "cell_type": "markdown",
   "metadata": {},
   "source": [
    "### DEBUG: Detailed information, typically of interest only when diagnosing problems.\n",
    "\n",
    "### INFO: Confirmation that things are working as expected.\n",
    "\n",
    "### WARNING: An indication that something unexpected happened, or indicative of some problem in the near future (e.g. ‘disk space low’). The software is still working as expected.\n",
    "\n",
    "### ERROR: Due to a more serious problem, the software has not been able to perform some function.\n",
    "\n",
    "### CRITICAL: A serious error, indicating that the program itself may be unable to continue running."
   ]
  },
  {
   "cell_type": "code",
   "execution_count": 12,
   "metadata": {},
   "outputs": [
    {
     "name": "stdout",
     "output_type": "stream",
     "text": [
      "import logging\r\n",
      "\r\n",
      "logging.basicConfig(level=logging.DEBUG)\r\n",
      "\r\n",
      "def add(x, y):\r\n",
      "    \"\"\"Add Function\"\"\"\r\n",
      "    return x + y\r\n",
      "\r\n",
      "\r\n",
      "def subtract(x, y):\r\n",
      "    \"\"\"Subtract Function\"\"\"\r\n",
      "    return x - y\r\n",
      "\r\n",
      "\r\n",
      "def multiply(x, y):\r\n",
      "    \"\"\"Multiply Function\"\"\"\r\n",
      "    return x * y\r\n",
      "\r\n",
      "\r\n",
      "def divide(x, y):\r\n",
      "    \"\"\"Divide Function\"\"\"\r\n",
      "    return x / y\r\n",
      "\r\n",
      "\r\n",
      "num_1 = 20\r\n",
      "num_2 = 10\r\n",
      "\r\n",
      "add_result = add(num_1, num_2)\r\n",
      "logging.debug(f'Add: {num_1} + {num_2} = {add_result}')\r\n",
      "\r\n",
      "sub_result = subtract(num_1, num_2)\r\n",
      "logging.debug(f'Sub: {num_1} - {num_2} = {sub_result}')\r\n",
      "\r\n",
      "mul_result = multiply(num_1, num_2)\r\n",
      "logging.debug(f'Mul: {num_1} * {num_2} = {mul_result}')\r\n",
      "\r\n",
      "div_result = divide(num_1, num_2)\r\n",
      "logging.debug(f'Div: {num_1} / {num_2} = {div_result}')\r\n"
     ]
    }
   ],
   "source": [
    "!cat log-sample.py"
   ]
  },
  {
   "cell_type": "code",
   "execution_count": 13,
   "metadata": {},
   "outputs": [
    {
     "name": "stdout",
     "output_type": "stream",
     "text": [
      "DEBUG:root:Add: 20 + 10 = 30\r\n",
      "DEBUG:root:Sub: 20 - 10 = 10\r\n",
      "DEBUG:root:Mul: 20 * 10 = 200\r\n",
      "DEBUG:root:Div: 20 / 10 = 2.0\r\n"
     ]
    }
   ],
   "source": [
    "!python log-sample.py"
   ]
  },
  {
   "cell_type": "markdown",
   "metadata": {},
   "source": [
    "## write log to log files"
   ]
  },
  {
   "cell_type": "code",
   "execution_count": 14,
   "metadata": {},
   "outputs": [
    {
     "name": "stdout",
     "output_type": "stream",
     "text": [
      "import logging\r\n",
      "\r\n",
      "logging.basicConfig(filename='test.log', level=logging.DEBUG)\r\n",
      "\r\n",
      "def add(x, y):\r\n",
      "    \"\"\"Add Function\"\"\"\r\n",
      "    return x + y\r\n",
      "\r\n",
      "\r\n",
      "def subtract(x, y):\r\n",
      "    \"\"\"Subtract Function\"\"\"\r\n",
      "    return x - y\r\n",
      "\r\n",
      "\r\n",
      "def multiply(x, y):\r\n",
      "    \"\"\"Multiply Function\"\"\"\r\n",
      "    return x * y\r\n",
      "\r\n",
      "\r\n",
      "def divide(x, y):\r\n",
      "    \"\"\"Divide Function\"\"\"\r\n",
      "    return x / y\r\n",
      "\r\n",
      "\r\n",
      "num_1 = 20\r\n",
      "num_2 = 10\r\n",
      "\r\n",
      "add_result = add(num_1, num_2)\r\n",
      "logging.debug(f'Add: {num_1} + {num_2} = {add_result}')\r\n",
      "\r\n",
      "sub_result = subtract(num_1, num_2)\r\n",
      "logging.debug(f'Sub: {num_1} - {num_2} = {sub_result}')\r\n",
      "\r\n",
      "mul_result = multiply(num_1, num_2)\r\n",
      "logging.debug(f'Mul: {num_1} * {num_2} = {mul_result}')\r\n",
      "\r\n",
      "div_result = divide(num_1, num_2)\r\n",
      "logging.debug(f'Div: {num_1} / {num_2} = {div_result}')\r\n"
     ]
    }
   ],
   "source": [
    "!cat log-sample.py"
   ]
  },
  {
   "cell_type": "code",
   "execution_count": 15,
   "metadata": {},
   "outputs": [],
   "source": [
    "!python log-sample.py"
   ]
  },
  {
   "cell_type": "code",
   "execution_count": 16,
   "metadata": {},
   "outputs": [
    {
     "name": "stdout",
     "output_type": "stream",
     "text": [
      "DEBUG:root:Add: 20 + 10 = 30\r\n",
      "DEBUG:root:Sub: 20 - 10 = 10\r\n",
      "DEBUG:root:Mul: 20 * 10 = 200\r\n",
      "DEBUG:root:Div: 20 / 10 = 2.0\r\n"
     ]
    }
   ],
   "source": [
    "!cat test.log"
   ]
  },
  {
   "cell_type": "markdown",
   "metadata": {},
   "source": [
    "## add formatting to logs"
   ]
  },
  {
   "cell_type": "code",
   "execution_count": 17,
   "metadata": {},
   "outputs": [
    {
     "name": "stdout",
     "output_type": "stream",
     "text": [
      "import logging\r\n",
      "\r\n",
      "logging.basicConfig(filename='test.log', level=logging.DEBUG,\r\n",
      "                    format='%(asctime)s:%(levelname)s:%(message)s')\r\n",
      "\r\n",
      "def add(x, y):\r\n",
      "    \"\"\"Add Function\"\"\"\r\n",
      "    return x + y\r\n",
      "\r\n",
      "\r\n",
      "def subtract(x, y):\r\n",
      "    \"\"\"Subtract Function\"\"\"\r\n",
      "    return x - y\r\n",
      "\r\n",
      "\r\n",
      "def multiply(x, y):\r\n",
      "    \"\"\"Multiply Function\"\"\"\r\n",
      "    return x * y\r\n",
      "\r\n",
      "\r\n",
      "def divide(x, y):\r\n",
      "    \"\"\"Divide Function\"\"\"\r\n",
      "    return x / y\r\n",
      "\r\n",
      "\r\n",
      "num_1 = 20\r\n",
      "num_2 = 10\r\n",
      "\r\n",
      "add_result = add(num_1, num_2)\r\n",
      "logging.debug(f'Add: {num_1} + {num_2} = {add_result}')\r\n",
      "\r\n",
      "sub_result = subtract(num_1, num_2)\r\n",
      "logging.debug(f'Sub: {num_1} - {num_2} = {sub_result}')\r\n",
      "\r\n",
      "mul_result = multiply(num_1, num_2)\r\n",
      "logging.debug(f'Mul: {num_1} * {num_2} = {mul_result}')\r\n",
      "\r\n",
      "div_result = divide(num_1, num_2)\r\n",
      "logging.debug(f'Div: {num_1} / {num_2} = {div_result}')\r\n"
     ]
    }
   ],
   "source": [
    "!cat log-sample.py"
   ]
  },
  {
   "cell_type": "code",
   "execution_count": 18,
   "metadata": {},
   "outputs": [],
   "source": [
    "!python log-sample.py"
   ]
  },
  {
   "cell_type": "code",
   "execution_count": 19,
   "metadata": {},
   "outputs": [
    {
     "name": "stdout",
     "output_type": "stream",
     "text": [
      "DEBUG:root:Add: 20 + 10 = 30\r\n",
      "DEBUG:root:Sub: 20 - 10 = 10\r\n",
      "DEBUG:root:Mul: 20 * 10 = 200\r\n",
      "DEBUG:root:Div: 20 / 10 = 2.0\r\n",
      "2019-09-30 13:32:44,485:DEBUG:Add: 20 + 10 = 30\r\n",
      "2019-09-30 13:32:44,485:DEBUG:Sub: 20 - 10 = 10\r\n",
      "2019-09-30 13:32:44,485:DEBUG:Mul: 20 * 10 = 200\r\n",
      "2019-09-30 13:32:44,485:DEBUG:Div: 20 / 10 = 2.0\r\n"
     ]
    }
   ],
   "source": [
    "!cat test.log"
   ]
  },
  {
   "cell_type": "markdown",
   "metadata": {},
   "source": [
    "# Advanced Logging"
   ]
  },
  {
   "cell_type": "code",
   "execution_count": 22,
   "metadata": {},
   "outputs": [
    {
     "name": "stdout",
     "output_type": "stream",
     "text": [
      "-rw-r--r-- 1 benedict benedict 660 Sep 30 13:41 employee.py\r\n",
      "-rw-r--r-- 1 benedict benedict 804 Sep 30 13:42 log-sample.py\r\n",
      "-rw-r--r-- 1 benedict benedict 541 Sep 27 11:59 tasks.py\r\n"
     ]
    }
   ],
   "source": [
    "!ls -l *.py"
   ]
  },
  {
   "cell_type": "code",
   "execution_count": 24,
   "metadata": {},
   "outputs": [
    {
     "name": "stdout",
     "output_type": "stream",
     "text": [
      "ls: cannot access '*.log': No such file or directory\r\n"
     ]
    }
   ],
   "source": [
    "!ls -l *.log"
   ]
  },
  {
   "cell_type": "markdown",
   "metadata": {},
   "source": [
    "## import employee module into log-sample.py"
   ]
  },
  {
   "cell_type": "code",
   "execution_count": 29,
   "metadata": {},
   "outputs": [
    {
     "name": "stdout",
     "output_type": "stream",
     "text": [
      "import logging\r\n",
      "import employee\r\n",
      "\r\n",
      "logging.basicConfig(filename='test.log', level=logging.DEBUG,\r\n",
      "                    format='%(asctime)s:%(levelname)s:%(message)s')\r\n",
      "\r\n",
      "def add(x, y):\r\n",
      "    \"\"\"Add Function\"\"\"\r\n",
      "    return x + y\r\n",
      "\r\n",
      "\r\n",
      "def subtract(x, y):\r\n",
      "    \"\"\"Subtract Function\"\"\"\r\n",
      "    return x - y\r\n",
      "\r\n",
      "\r\n",
      "def multiply(x, y):\r\n",
      "    \"\"\"Multiply Function\"\"\"\r\n",
      "    return x * y\r\n",
      "\r\n",
      "\r\n",
      "def divide(x, y):\r\n",
      "    \"\"\"Divide Function\"\"\"\r\n",
      "    return x / y\r\n",
      "\r\n",
      "\r\n",
      "num_1 = 20\r\n",
      "num_2 = 10\r\n",
      "\r\n",
      "add_result = add(num_1, num_2)\r\n",
      "logging.info(f'Add: {num_1} + {num_2} = {add_result}')\r\n",
      "\r\n",
      "sub_result = subtract(num_1, num_2)\r\n",
      "logging.info(f'Sub: {num_1} - {num_2} = {sub_result}')\r\n",
      "\r\n",
      "mul_result = multiply(num_1, num_2)\r\n",
      "logging.info(f'Mul: {num_1} * {num_2} = {mul_result}')\r\n",
      "\r\n",
      "div_result = divide(num_1, num_2)\r\n",
      "logging.info(f'Div: {num_1} / {num_2} = {div_result}')\r\n"
     ]
    }
   ],
   "source": [
    "!cat log-sample.py"
   ]
  },
  {
   "cell_type": "code",
   "execution_count": 30,
   "metadata": {},
   "outputs": [],
   "source": [
    "!python log-sample.py"
   ]
  },
  {
   "cell_type": "markdown",
   "metadata": {},
   "source": [
    "### sample.log was not created and log-sample.py written to employee.log"
   ]
  },
  {
   "cell_type": "code",
   "execution_count": 33,
   "metadata": {},
   "outputs": [
    {
     "name": "stdout",
     "output_type": "stream",
     "text": [
      "-rw-r--r-- 1 benedict benedict 267 Sep 30 13:46 employee.log\r\n"
     ]
    }
   ],
   "source": [
    "!ls -l *.log"
   ]
  },
  {
   "cell_type": "code",
   "execution_count": 34,
   "metadata": {},
   "outputs": [
    {
     "name": "stdout",
     "output_type": "stream",
     "text": [
      "INFO:Created Employee: John Smith - John.Smith@email.com\r\n",
      "INFO:Created Employee: Corey Schafer - Corey.Schafer@email.com\r\n",
      "INFO:Created Employee: Jane Doe - Jane.Doe@email.com\r\n",
      "INFO:Add: 20 + 10 = 30\r\n",
      "INFO:Sub: 20 - 10 = 10\r\n",
      "INFO:Mul: 20 * 10 = 200\r\n",
      "INFO:Div: 20 / 10 = 2.0\r\n"
     ]
    }
   ],
   "source": [
    "!cat employee.log"
   ]
  },
  {
   "cell_type": "markdown",
   "metadata": {},
   "source": [
    "## create logger name for employee.py"
   ]
  },
  {
   "cell_type": "code",
   "execution_count": 19,
   "metadata": {},
   "outputs": [
    {
     "name": "stdout",
     "output_type": "stream",
     "text": [
      "import logging\r\n",
      "\r\n",
      "logger = logging.getLogger(__name__)\r\n",
      "logger.setLevel(logging.INFO)\r\n",
      "\r\n",
      "formatter = logging.Formatter('%(levelname)s:%(name)s:%(message)s')\r\n",
      "\r\n",
      "file_handler = logging.FileHandler('employee.log')\r\n",
      "file_handler.setFormatter(formatter)\r\n",
      "\r\n",
      "logger.addHandler(file_handler)\r\n",
      "\r\n",
      "\r\n",
      "class Employee:\r\n",
      "    \"\"\"A sample Employee class\"\"\"\r\n",
      "\r\n",
      "    def __init__(self, first, last):\r\n",
      "        self.first = first\r\n",
      "        self.last = last\r\n",
      "\r\n",
      "        logger.info('Created Employee: {} - {}'.format(self.fullname, self.email))\r\n",
      "\r\n",
      "    @property\r\n",
      "    def email(self):\r\n",
      "        return '{}.{}@email.com'.format(self.first, self.last)\r\n",
      "\r\n",
      "    @property\r\n",
      "    def fullname(self):\r\n",
      "        return '{} {}'.format(self.first, self.last)\r\n",
      "\r\n",
      "\r\n",
      "emp_1 = Employee('John', 'Smith')\r\n",
      "emp_2 = Employee('Corey', 'Schafer')\r\n",
      "emp_3 = Employee('Jane', 'Doe')\r\n"
     ]
    }
   ],
   "source": [
    "!cat employee.py"
   ]
  },
  {
   "cell_type": "code",
   "execution_count": 21,
   "metadata": {},
   "outputs": [],
   "source": [
    "!python employee.py"
   ]
  },
  {
   "cell_type": "code",
   "execution_count": 22,
   "metadata": {},
   "outputs": [
    {
     "name": "stdout",
     "output_type": "stream",
     "text": [
      "INFO:__main__:Created Employee: John Smith - John.Smith@email.com\r\n",
      "INFO:__main__:Created Employee: Corey Schafer - Corey.Schafer@email.com\r\n",
      "INFO:__main__:Created Employee: Jane Doe - Jane.Doe@email.com\r\n"
     ]
    }
   ],
   "source": [
    "!cat employee.log"
   ]
  },
  {
   "cell_type": "markdown",
   "metadata": {},
   "source": [
    "## now the logs should not be overwritten"
   ]
  },
  {
   "cell_type": "code",
   "execution_count": 26,
   "metadata": {},
   "outputs": [],
   "source": [
    "!python log-sample.py"
   ]
  },
  {
   "cell_type": "code",
   "execution_count": 27,
   "metadata": {},
   "outputs": [
    {
     "name": "stdout",
     "output_type": "stream",
     "text": [
      "2019-09-30 13:58:15,561:INFO:Add: 20 + 10 = 30\r\n",
      "2019-09-30 13:58:15,561:INFO:Sub: 20 - 10 = 10\r\n",
      "2019-09-30 13:58:15,562:INFO:Mul: 20 * 10 = 200\r\n",
      "2019-09-30 13:58:15,562:INFO:Div: 20 / 10 = 2.0\r\n"
     ]
    }
   ],
   "source": [
    "!cat test.log"
   ]
  },
  {
   "cell_type": "code",
   "execution_count": 28,
   "metadata": {},
   "outputs": [
    {
     "name": "stdout",
     "output_type": "stream",
     "text": [
      "INFO:employee:Created Employee: John Smith - John.Smith@email.com\r\n",
      "INFO:employee:Created Employee: Corey Schafer - Corey.Schafer@email.com\r\n",
      "INFO:employee:Created Employee: Jane Doe - Jane.Doe@email.com\r\n"
     ]
    }
   ],
   "source": [
    "!cat employee.log"
   ]
  },
  {
   "cell_type": "markdown",
   "metadata": {},
   "source": [
    "## add multiple handler"
   ]
  },
  {
   "cell_type": "code",
   "execution_count": 4,
   "metadata": {},
   "outputs": [
    {
     "name": "stdout",
     "output_type": "stream",
     "text": [
      "import logging\r\n",
      "import employee\r\n",
      "\r\n",
      "logger = logging.getLogger(__name__)\r\n",
      "logger.setLevel(logging.DEBUG)\r\n",
      "\r\n",
      "formatter = logging.Formatter('%(asctime)s:%(name)s:%(message)s')\r\n",
      "\r\n",
      "file_handler = logging.FileHandler('sample.log')\r\n",
      "file_handler.setLevel(logging.ERROR)\r\n",
      "file_handler.setFormatter(formatter)\r\n",
      "\r\n",
      "stream_handler = logging.StreamHandler()\r\n",
      "stream_handler.setFormatter(formatter)\r\n",
      "\r\n",
      "logger.addHandler(file_handler)\r\n",
      "logger.addHandler(stream_handler)\r\n",
      "\r\n",
      "\r\n",
      "def add(x, y):\r\n",
      "    \"\"\"Add Function\"\"\"\r\n",
      "    return x + y\r\n",
      "\r\n",
      "\r\n",
      "def subtract(x, y):\r\n",
      "    \"\"\"Subtract Function\"\"\"\r\n",
      "    return x - y\r\n",
      "\r\n",
      "\r\n",
      "def multiply(x, y):\r\n",
      "    \"\"\"Multiply Function\"\"\"\r\n",
      "    return x * y\r\n",
      "\r\n",
      "\r\n",
      "def divide(x, y):\r\n",
      "    \"\"\"Divide Function\"\"\"\r\n",
      "    try:\r\n",
      "        result = x / y\r\n",
      "    except ZeroDivisionError:\r\n",
      "        logger.exception('Tried to divide by zero')\r\n",
      "    else:\r\n",
      "        return result\r\n",
      "\r\n",
      "\r\n",
      "num_1 = 10\r\n",
      "num_2 = 0\r\n",
      "\r\n",
      "add_result = add(num_1, num_2)\r\n",
      "logging.debug(f'Add: {num_1} + {num_2} = {add_result}')\r\n",
      "\r\n",
      "sub_result = subtract(num_1, num_2)\r\n",
      "logging.debug(f'Sub: {num_1} - {num_2} = {sub_result}')\r\n",
      "\r\n",
      "mul_result = multiply(num_1, num_2)\r\n",
      "logging.debug(f'Mul: {num_1} * {num_2} = {mul_result}')\r\n",
      "\r\n",
      "div_result = divide(num_1, num_2)\r\n",
      "logging.debug(f'Div: {num_1} / {num_2} = {div_result}')\r\n"
     ]
    }
   ],
   "source": [
    "!cat log-sample.py"
   ]
  },
  {
   "cell_type": "code",
   "execution_count": 5,
   "metadata": {},
   "outputs": [
    {
     "name": "stdout",
     "output_type": "stream",
     "text": [
      "2019-09-30 14:03:42,828:__main__:Tried to divide by zero\r\n",
      "Traceback (most recent call last):\r\n",
      "  File \"log-sample.py\", line 38, in divide\r\n",
      "    result = x / y\r\n",
      "ZeroDivisionError: division by zero\r\n",
      "ERROR:__main__:Tried to divide by zero\r\n",
      "Traceback (most recent call last):\r\n",
      "  File \"log-sample.py\", line 38, in divide\r\n",
      "    result = x / y\r\n",
      "ZeroDivisionError: division by zero\r\n"
     ]
    }
   ],
   "source": [
    "!python log-sample.py"
   ]
  },
  {
   "cell_type": "code",
   "execution_count": 6,
   "metadata": {},
   "outputs": [
    {
     "name": "stdout",
     "output_type": "stream",
     "text": [
      "2019-09-30 14:03:42,828:__main__:Tried to divide by zero\r\n",
      "Traceback (most recent call last):\r\n",
      "  File \"log-sample.py\", line 38, in divide\r\n",
      "    result = x / y\r\n",
      "ZeroDivisionError: division by zero\r\n"
     ]
    }
   ],
   "source": [
    "!cat sample.log"
   ]
  },
  {
   "cell_type": "code",
   "execution_count": 7,
   "metadata": {},
   "outputs": [
    {
     "name": "stdout",
     "output_type": "stream",
     "text": [
      "INFO:employee:Created Employee: John Smith - John.Smith@email.com\r\n",
      "INFO:employee:Created Employee: Corey Schafer - Corey.Schafer@email.com\r\n",
      "INFO:employee:Created Employee: Jane Doe - Jane.Doe@email.com\r\n"
     ]
    }
   ],
   "source": [
    "!cat employee.log"
   ]
  },
  {
   "cell_type": "markdown",
   "metadata": {},
   "source": [
    "***\n",
    "## simple"
   ]
  },
  {
   "cell_type": "code",
   "execution_count": 9,
   "metadata": {},
   "outputs": [
    {
     "name": "stdout",
     "output_type": "stream",
     "text": [
      "import logging\r\n",
      "\r\n",
      "logger = logging.getLogger(__name__)\r\n",
      "logger.setLevel(logging.INFO)\r\n",
      "\r\n",
      "formatter = logging.Formatter('%(levelname)s:%(name)s:%(message)s')\r\n",
      "\r\n",
      "file_handler = logging.FileHandler('employee.log')\r\n",
      "file_handler.setFormatter(formatter)\r\n",
      "\r\n",
      "logger.addHandler(file_handler)\r\n",
      "\r\n",
      "def subtract(x, y):\r\n",
      "    return x - y\r\n",
      "\r\n",
      "num_1 = 20\r\n",
      "num_2 = 10\r\n",
      "\r\n",
      "sub_result = subtract(num_1, num_2)\r\n",
      "#logging.warning(f'Sub: {num_1} - {num_2} = {sub_result}')\r\n",
      "logger.warning(f'Sub: {num_1} - {num_2} = {sub_result}')\r\n"
     ]
    }
   ],
   "source": [
    "!cat employee.py"
   ]
  },
  {
   "cell_type": "code",
   "execution_count": 10,
   "metadata": {},
   "outputs": [
    {
     "name": "stdout",
     "output_type": "stream",
     "text": [
      "import logging\r\n",
      "import employee\r\n",
      "\r\n",
      "logger = logging.getLogger(__name__)\r\n",
      "logger.setLevel(logging.DEBUG)\r\n",
      "\r\n",
      "formatter = logging.Formatter('%(asctime)s:%(name)s:%(message)s')\r\n",
      "\r\n",
      "file_handler = logging.FileHandler('sample.log')\r\n",
      "file_handler.setLevel(logging.ERROR)\r\n",
      "file_handler.setFormatter(formatter)\r\n",
      "\r\n",
      "stream_handler = logging.StreamHandler()\r\n",
      "stream_handler.setFormatter(formatter)\r\n",
      "\r\n",
      "logger.addHandler(file_handler)\r\n",
      "logger.addHandler(stream_handler)\r\n",
      "\r\n",
      "\r\n",
      "def add(x, y):\r\n",
      "    \"\"\"Add Function\"\"\"\r\n",
      "    return x + y\r\n",
      "\r\n",
      "num_1 = 20\r\n",
      "num_2 = 10\r\n",
      "\r\n",
      "add_result = add(num_1, num_2)\r\n",
      "logger.critical(f'Add: {num_1} + {num_2} = {add_result}')\r\n",
      "\r\n"
     ]
    }
   ],
   "source": [
    "!cat log-sample.py"
   ]
  },
  {
   "cell_type": "code",
   "execution_count": 11,
   "metadata": {},
   "outputs": [
    {
     "name": "stdout",
     "output_type": "stream",
     "text": [
      "2019-09-30 18:55:32,992:__main__:Add: 20 + 10 = 30\r\n"
     ]
    }
   ],
   "source": [
    "!python log-sample.py"
   ]
  },
  {
   "cell_type": "code",
   "execution_count": 12,
   "metadata": {},
   "outputs": [],
   "source": [
    "!python employee.py"
   ]
  },
  {
   "cell_type": "code",
   "execution_count": 13,
   "metadata": {},
   "outputs": [
    {
     "name": "stdout",
     "output_type": "stream",
     "text": [
      "2019-09-30 18:55:32,992:__main__:Add: 20 + 10 = 30\r\n"
     ]
    }
   ],
   "source": [
    "!cat sample.log"
   ]
  },
  {
   "cell_type": "code",
   "execution_count": 14,
   "metadata": {},
   "outputs": [
    {
     "name": "stdout",
     "output_type": "stream",
     "text": [
      "WARNING:employee:Sub: 20 - 10 = 10\r\n",
      "WARNING:__main__:Sub: 20 - 10 = 10\r\n"
     ]
    }
   ],
   "source": [
    "!cat employee.log"
   ]
  },
  {
   "cell_type": "code",
   "execution_count": null,
   "metadata": {},
   "outputs": [],
   "source": []
  }
 ],
 "metadata": {
  "kernelspec": {
   "display_name": "Python 3",
   "language": "python",
   "name": "python3"
  },
  "language_info": {
   "codemirror_mode": {
    "name": "ipython",
    "version": 3
   },
   "file_extension": ".py",
   "mimetype": "text/x-python",
   "name": "python",
   "nbconvert_exporter": "python",
   "pygments_lexer": "ipython3",
   "version": "3.7.4"
  }
 },
 "nbformat": 4,
 "nbformat_minor": 2
}
