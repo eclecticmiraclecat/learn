{
 "cells": [
  {
   "cell_type": "markdown",
   "metadata": {},
   "source": [
    "    ... = infinity\n",
    " \n",
    "    count(10) --> 10, 11, 12, 13, 14, ...\n",
    "    cycle('ABCD') --> A, B, C, D, A, B, C, D, ...\n",
    "    repeat(10) --> 10, 10, 10, 10, ...\n",
    "    "
   ]
  },
  {
   "cell_type": "markdown",
   "metadata": {},
   "source": [
    "    islice(iterable, stop)\n",
    "    islice(iterable, start, stop, step)\n",
    "    islice(count(0), 15, None, 2) --> 15, 17, 19, ..."
   ]
  },
  {
   "cell_type": "markdown",
   "metadata": {},
   "source": [
    "    zip(count(), cycle('abcd')) --> (0, 'a'), (1, 'b'), (2, 'c'), (3, 'd), (4, 'a'), ..."
   ]
  },
  {
   "cell_type": "markdown",
   "metadata": {},
   "source": [
    "    zip_longest(count(), repeat('x', 1)) --> (0, 'x'), (1, None), (2, None), (3, None), ..."
   ]
  },
  {
   "cell_type": "code",
   "execution_count": 1,
   "metadata": {},
   "outputs": [],
   "source": [
    "import itertools"
   ]
  },
  {
   "cell_type": "code",
   "execution_count": 2,
   "metadata": {},
   "outputs": [
    {
     "data": {
      "text/plain": [
       "[(1, 'a'), (1, 'b'), (2, 'a'), (2, 'b')]"
      ]
     },
     "execution_count": 2,
     "metadata": {},
     "output_type": "execute_result"
    }
   ],
   "source": [
    "list(itertools.product([1, 2], 'ab'))"
   ]
  },
  {
   "cell_type": "code",
   "execution_count": 9,
   "metadata": {},
   "outputs": [],
   "source": [
    "perms = itertools.permutations(['Qualified', 'Quazar', 'Robust', 'Rotations'], 2)"
   ]
  },
  {
   "cell_type": "code",
   "execution_count": 5,
   "metadata": {},
   "outputs": [
    {
     "data": {
      "text/plain": [
       "[('Qualified', 'Quazar'),\n",
       " ('Qualified', 'Robust'),\n",
       " ('Qualified', 'Rotations'),\n",
       " ('Quazar', 'Qualified'),\n",
       " ('Quazar', 'Robust'),\n",
       " ('Quazar', 'Rotations'),\n",
       " ('Robust', 'Qualified'),\n",
       " ('Robust', 'Quazar'),\n",
       " ('Robust', 'Rotations'),\n",
       " ('Rotations', 'Qualified'),\n",
       " ('Rotations', 'Quazar'),\n",
       " ('Rotations', 'Robust')]"
      ]
     },
     "execution_count": 5,
     "metadata": {},
     "output_type": "execute_result"
    }
   ],
   "source": [
    "list(perms)"
   ]
  },
  {
   "cell_type": "code",
   "execution_count": 10,
   "metadata": {},
   "outputs": [
    {
     "data": {
      "text/plain": [
       "['Qualified Quazar',\n",
       " 'Qualified Robust',\n",
       " 'Qualified Rotations',\n",
       " 'Quazar Qualified',\n",
       " 'Quazar Robust',\n",
       " 'Quazar Rotations',\n",
       " 'Robust Qualified',\n",
       " 'Robust Quazar',\n",
       " 'Robust Rotations',\n",
       " 'Rotations Qualified',\n",
       " 'Rotations Quazar',\n",
       " 'Rotations Robust']"
      ]
     },
     "execution_count": 10,
     "metadata": {},
     "output_type": "execute_result"
    }
   ],
   "source": [
    "[\" \".join(n) for n in perms]"
   ]
  },
  {
   "cell_type": "code",
   "execution_count": 13,
   "metadata": {},
   "outputs": [],
   "source": [
    "# if don't want doubles to come up\n",
    "combs = itertools.combinations(['Qualified', 'Quazar', 'Robust', 'Rotations'], 2)"
   ]
  },
  {
   "cell_type": "code",
   "execution_count": 12,
   "metadata": {},
   "outputs": [
    {
     "data": {
      "text/plain": [
       "[('Qualified', 'Quazar'),\n",
       " ('Qualified', 'Robust'),\n",
       " ('Qualified', 'Rotations'),\n",
       " ('Quazar', 'Robust'),\n",
       " ('Quazar', 'Rotations'),\n",
       " ('Robust', 'Rotations')]"
      ]
     },
     "execution_count": 12,
     "metadata": {},
     "output_type": "execute_result"
    }
   ],
   "source": [
    "list(combs)"
   ]
  },
  {
   "cell_type": "code",
   "execution_count": 14,
   "metadata": {},
   "outputs": [
    {
     "data": {
      "text/plain": [
       "['Qualified Quazar',\n",
       " 'Qualified Robust',\n",
       " 'Qualified Rotations',\n",
       " 'Quazar Robust',\n",
       " 'Quazar Rotations',\n",
       " 'Robust Rotations']"
      ]
     },
     "execution_count": 14,
     "metadata": {},
     "output_type": "execute_result"
    }
   ],
   "source": [
    "[\" \".join(n) for n in combs]"
   ]
  },
  {
   "cell_type": "code",
   "execution_count": 17,
   "metadata": {},
   "outputs": [],
   "source": [
    "combs2 = itertools.combinations_with_replacement(['Qualified', 'Quazar', 'Robust', 'Rotations'], 2)"
   ]
  },
  {
   "cell_type": "code",
   "execution_count": 16,
   "metadata": {},
   "outputs": [
    {
     "data": {
      "text/plain": [
       "[('Qualified', 'Qualified'),\n",
       " ('Qualified', 'Quazar'),\n",
       " ('Qualified', 'Robust'),\n",
       " ('Qualified', 'Rotations'),\n",
       " ('Quazar', 'Quazar'),\n",
       " ('Quazar', 'Robust'),\n",
       " ('Quazar', 'Rotations'),\n",
       " ('Robust', 'Robust'),\n",
       " ('Robust', 'Rotations'),\n",
       " ('Rotations', 'Rotations')]"
      ]
     },
     "execution_count": 16,
     "metadata": {},
     "output_type": "execute_result"
    }
   ],
   "source": [
    "list(combs2)"
   ]
  },
  {
   "cell_type": "code",
   "execution_count": 18,
   "metadata": {},
   "outputs": [
    {
     "data": {
      "text/plain": [
       "['Qualified Qualified',\n",
       " 'Qualified Quazar',\n",
       " 'Qualified Robust',\n",
       " 'Qualified Rotations',\n",
       " 'Quazar Quazar',\n",
       " 'Quazar Robust',\n",
       " 'Quazar Rotations',\n",
       " 'Robust Robust',\n",
       " 'Robust Rotations',\n",
       " 'Rotations Rotations']"
      ]
     },
     "execution_count": 18,
     "metadata": {},
     "output_type": "execute_result"
    }
   ],
   "source": [
    "[\" \".join(n) for n in combs2]"
   ]
  },
  {
   "cell_type": "code",
   "execution_count": 20,
   "metadata": {},
   "outputs": [],
   "source": [
    "numbers = \"one two three four\".split()"
   ]
  },
  {
   "cell_type": "code",
   "execution_count": 21,
   "metadata": {},
   "outputs": [
    {
     "data": {
      "text/plain": [
       "['one', 'two', 'three', 'four']"
      ]
     },
     "execution_count": 21,
     "metadata": {},
     "output_type": "execute_result"
    }
   ],
   "source": [
    "numbers"
   ]
  },
  {
   "cell_type": "code",
   "execution_count": 24,
   "metadata": {},
   "outputs": [],
   "source": [
    "groups = itertools.groupby(numbers, lambda name: name[0])"
   ]
  },
  {
   "cell_type": "code",
   "execution_count": 23,
   "metadata": {},
   "outputs": [
    {
     "data": {
      "text/plain": [
       "[('o', <itertools._grouper at 0x7f65d9ca6790>),\n",
       " ('t', <itertools._grouper at 0x7f65d9ca6dd0>),\n",
       " ('f', <itertools._grouper at 0x7f65d9ca6f50>)]"
      ]
     },
     "execution_count": 23,
     "metadata": {},
     "output_type": "execute_result"
    }
   ],
   "source": [
    "list(groups)"
   ]
  },
  {
   "cell_type": "code",
   "execution_count": 25,
   "metadata": {},
   "outputs": [
    {
     "name": "stdout",
     "output_type": "stream",
     "text": [
      "Key o : one\n",
      "Key t : two three\n",
      "Key f : four\n"
     ]
    }
   ],
   "source": [
    "for key, group in groups:\n",
    "    print(f\"Key {key} : {' '.join(group)}\")"
   ]
  },
  {
   "cell_type": "code",
   "execution_count": 29,
   "metadata": {},
   "outputs": [],
   "source": [
    "words = \"Dr. Emmet Brown: The way I see\".split()"
   ]
  },
  {
   "cell_type": "code",
   "execution_count": 30,
   "metadata": {},
   "outputs": [],
   "source": [
    "now, later = itertools.tee(words)"
   ]
  },
  {
   "cell_type": "code",
   "execution_count": 31,
   "metadata": {},
   "outputs": [
    {
     "data": {
      "text/plain": [
       "['Dr.', 'Emmet', 'Brown:', 'The']"
      ]
     },
     "execution_count": 31,
     "metadata": {},
     "output_type": "execute_result"
    }
   ],
   "source": [
    "[next(now), next(now), next(now), next(now)]"
   ]
  },
  {
   "cell_type": "code",
   "execution_count": 32,
   "metadata": {},
   "outputs": [
    {
     "data": {
      "text/plain": [
       "['Dr.', 'Emmet', 'Brown:', 'The']"
      ]
     },
     "execution_count": 32,
     "metadata": {},
     "output_type": "execute_result"
    }
   ],
   "source": [
    "[next(later), next(later), next(later), next(later)]"
   ]
  },
  {
   "cell_type": "code",
   "execution_count": null,
   "metadata": {},
   "outputs": [],
   "source": []
  }
 ],
 "metadata": {
  "kernelspec": {
   "display_name": "Python 3",
   "language": "python",
   "name": "python3"
  },
  "language_info": {
   "codemirror_mode": {
    "name": "ipython",
    "version": 3
   },
   "file_extension": ".py",
   "mimetype": "text/x-python",
   "name": "python",
   "nbconvert_exporter": "python",
   "pygments_lexer": "ipython3",
   "version": "3.7.4"
  }
 },
 "nbformat": 4,
 "nbformat_minor": 2
}
