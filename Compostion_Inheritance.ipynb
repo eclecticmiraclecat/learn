{
 "cells": [
  {
   "cell_type": "markdown",
   "metadata": {},
   "source": [
    "## inheritance"
   ]
  },
  {
   "cell_type": "code",
   "execution_count": 7,
   "metadata": {},
   "outputs": [],
   "source": [
    "class Rocket:\n",
    "    def __init__(self, name):\n",
    "        self.name = name\n",
    "        \n",
    "    def launch(self):\n",
    "        print('Rocket.launching')\n",
    "    \n",
    "class MarsRover(Rocket):\n",
    "    def __init__(self, name, maker):\n",
    "        self.maker = maker\n",
    "        super().__init__(name)\n",
    "            \n",
    "    def get_maker(self):\n",
    "        print('MarsRover', self.maker)"
   ]
  },
  {
   "cell_type": "code",
   "execution_count": 8,
   "metadata": {},
   "outputs": [
    {
     "name": "stdout",
     "output_type": "stream",
     "text": [
      "Rocket.launching\n",
      "Rocket.launching\n",
      "MarsRover ISRO\n"
     ]
    }
   ],
   "source": [
    "x = Rocket('simple rocket')\n",
    "y = MarsRover('mars rocket', 'ISRO')\n",
    "x.launch()\n",
    "y.launch()\n",
    "y.get_maker()"
   ]
  },
  {
   "cell_type": "markdown",
   "metadata": {},
   "source": [
    "## composition"
   ]
  },
  {
   "cell_type": "code",
   "execution_count": 4,
   "metadata": {},
   "outputs": [],
   "source": [
    "class Rocket:\n",
    "    def __init__(self, name):\n",
    "        self.name = name\n",
    "        \n",
    "    def launch(self):\n",
    "        print('Rocket.launching')\n",
    "    \n",
    "class MarsRover:\n",
    "    def __init__(self, name, maker):\n",
    "        self.maker = maker\n",
    "        self.rocket = Rocket(name)\n",
    "        \n",
    "    def get_maker(self):\n",
    "        print('MarsRover', self.maker)\n",
    "        \n",
    "    def launch(self):\n",
    "        self.rocket.launch()"
   ]
  },
  {
   "cell_type": "code",
   "execution_count": 5,
   "metadata": {},
   "outputs": [
    {
     "name": "stdout",
     "output_type": "stream",
     "text": [
      "Rocket.launching\n",
      "Rocket.launching\n",
      "MarsRover ISRO\n"
     ]
    }
   ],
   "source": [
    "x = Rocket('simple rocket')\n",
    "y = MarsRover('mars rocket', 'ISRO')\n",
    "x.launch()\n",
    "y.launch()\n",
    "y.get_maker()"
   ]
  },
  {
   "cell_type": "markdown",
   "metadata": {},
   "source": [
    "## composition with getattr\n",
    "- __getattr__ will delegate attribute access\n",
    "- special method that is called whenever the requested attribute is not found in the object, eg 'launch'"
   ]
  },
  {
   "cell_type": "code",
   "execution_count": 6,
   "metadata": {},
   "outputs": [],
   "source": [
    "class Rocket:\n",
    "    def __init__(self, name):\n",
    "        self.name = name\n",
    "        \n",
    "    def launch(self):\n",
    "        print('Rocket.launching')\n",
    "    \n",
    "class MarsRover:\n",
    "    def __init__(self, name, maker):\n",
    "        self.maker = maker\n",
    "        self.rocket = Rocket(name)\n",
    "        \n",
    "    def get_maker(self):\n",
    "        print('MarsRover', self.maker)\n",
    "        \n",
    "    def __getattr__(self, attr):\n",
    "        return getattr(self.rocket, attr)"
   ]
  },
  {
   "cell_type": "code",
   "execution_count": 7,
   "metadata": {},
   "outputs": [
    {
     "name": "stdout",
     "output_type": "stream",
     "text": [
      "Rocket.launching\n",
      "Rocket.launching\n",
      "MarsRover ISRO\n"
     ]
    }
   ],
   "source": [
    "x = Rocket('simple rocket')\n",
    "y = MarsRover('mars rocket', 'ISRO')\n",
    "x.launch()\n",
    "y.launch()\n",
    "y.get_maker()"
   ]
  },
  {
   "cell_type": "code",
   "execution_count": null,
   "metadata": {},
   "outputs": [],
   "source": []
  }
 ],
 "metadata": {
  "kernelspec": {
   "display_name": "Python 3",
   "language": "python",
   "name": "python3"
  },
  "language_info": {
   "codemirror_mode": {
    "name": "ipython",
    "version": 3
   },
   "file_extension": ".py",
   "mimetype": "text/x-python",
   "name": "python",
   "nbconvert_exporter": "python",
   "pygments_lexer": "ipython3",
   "version": "3.7.4"
  }
 },
 "nbformat": 4,
 "nbformat_minor": 2
}
